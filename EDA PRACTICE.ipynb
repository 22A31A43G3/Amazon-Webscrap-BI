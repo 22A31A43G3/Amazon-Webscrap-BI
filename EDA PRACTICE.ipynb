{
 "cells": [
  {
   "cell_type": "code",
   "execution_count": 1,
   "id": "450fda47-3200-43a8-93df-175c3ca03891",
   "metadata": {},
   "outputs": [],
   "source": [
    "import pandas as pd\n",
    "import matplotlib.pyplot as plt\n",
    "import seaborn as sns"
   ]
  },
  {
   "cell_type": "code",
   "execution_count": 2,
   "id": "3c8cc34b-d340-4e5f-8bdc-06c3497fe919",
   "metadata": {},
   "outputs": [],
   "source": [
    "df=pd.read_csv('cleaned_df_for_BI.csv')"
   ]
  },
  {
   "cell_type": "code",
   "execution_count": 3,
   "id": "8037ca72-2f02-4d94-83a5-0bae7f4e762c",
   "metadata": {},
   "outputs": [
    {
     "data": {
      "text/html": [
       "<div>\n",
       "<style scoped>\n",
       "    .dataframe tbody tr th:only-of-type {\n",
       "        vertical-align: middle;\n",
       "    }\n",
       "\n",
       "    .dataframe tbody tr th {\n",
       "        vertical-align: top;\n",
       "    }\n",
       "\n",
       "    .dataframe thead th {\n",
       "        text-align: right;\n",
       "    }\n",
       "</style>\n",
       "<table border=\"1\" class=\"dataframe\">\n",
       "  <thead>\n",
       "    <tr style=\"text-align: right;\">\n",
       "      <th></th>\n",
       "      <th>Stars</th>\n",
       "      <th>Ratings</th>\n",
       "      <th>Prices</th>\n",
       "      <th>Brands</th>\n",
       "      <th>Capacity</th>\n",
       "      <th>Energy_stars</th>\n",
       "      <th>config</th>\n",
       "    </tr>\n",
       "  </thead>\n",
       "  <tbody>\n",
       "    <tr>\n",
       "      <th>0</th>\n",
       "      <td>4.2</td>\n",
       "      <td>4708</td>\n",
       "      <td>27490</td>\n",
       "      <td>SAMSUNG</td>\n",
       "      <td>236.0</td>\n",
       "      <td>3</td>\n",
       "      <td>Freezer-on-Top</td>\n",
       "    </tr>\n",
       "    <tr>\n",
       "      <th>1</th>\n",
       "      <td>4.2</td>\n",
       "      <td>4708</td>\n",
       "      <td>27490</td>\n",
       "      <td>SAMSUNG</td>\n",
       "      <td>236.0</td>\n",
       "      <td>3</td>\n",
       "      <td>Freezer-on-Top</td>\n",
       "    </tr>\n",
       "    <tr>\n",
       "      <th>2</th>\n",
       "      <td>4.3</td>\n",
       "      <td>6445</td>\n",
       "      <td>24990</td>\n",
       "      <td>SAMSUNG</td>\n",
       "      <td>236.0</td>\n",
       "      <td>3</td>\n",
       "      <td>Freezer-on-Top</td>\n",
       "    </tr>\n",
       "    <tr>\n",
       "      <th>3</th>\n",
       "      <td>4.1</td>\n",
       "      <td>4025</td>\n",
       "      <td>11990</td>\n",
       "      <td>WHIRLPOOL</td>\n",
       "      <td>184.0</td>\n",
       "      <td>2</td>\n",
       "      <td>Single Door</td>\n",
       "    </tr>\n",
       "    <tr>\n",
       "      <th>4</th>\n",
       "      <td>4.3</td>\n",
       "      <td>6445</td>\n",
       "      <td>24990</td>\n",
       "      <td>SAMSUNG</td>\n",
       "      <td>236.0</td>\n",
       "      <td>3</td>\n",
       "      <td>Freezer-on-Top</td>\n",
       "    </tr>\n",
       "  </tbody>\n",
       "</table>\n",
       "</div>"
      ],
      "text/plain": [
       "   Stars  Ratings  Prices     Brands  Capacity  Energy_stars          config\n",
       "0    4.2     4708   27490    SAMSUNG     236.0             3  Freezer-on-Top\n",
       "1    4.2     4708   27490    SAMSUNG     236.0             3  Freezer-on-Top\n",
       "2    4.3     6445   24990    SAMSUNG     236.0             3  Freezer-on-Top\n",
       "3    4.1     4025   11990  WHIRLPOOL     184.0             2     Single Door\n",
       "4    4.3     6445   24990    SAMSUNG     236.0             3  Freezer-on-Top"
      ]
     },
     "execution_count": 3,
     "metadata": {},
     "output_type": "execute_result"
    }
   ],
   "source": [
    "df.head()"
   ]
  },
  {
   "cell_type": "code",
   "execution_count": 4,
   "id": "24f7812f-aac3-4a5a-b6ef-9a3acbdc8ca1",
   "metadata": {},
   "outputs": [
    {
     "name": "stdout",
     "output_type": "stream",
     "text": [
      "<class 'pandas.core.frame.DataFrame'>\n",
      "RangeIndex: 321 entries, 0 to 320\n",
      "Data columns (total 7 columns):\n",
      " #   Column        Non-Null Count  Dtype  \n",
      "---  ------        --------------  -----  \n",
      " 0   Stars         321 non-null    float64\n",
      " 1   Ratings       321 non-null    int64  \n",
      " 2   Prices        321 non-null    int64  \n",
      " 3   Brands        321 non-null    object \n",
      " 4   Capacity      321 non-null    float64\n",
      " 5   Energy_stars  321 non-null    int64  \n",
      " 6   config        321 non-null    object \n",
      "dtypes: float64(2), int64(3), object(2)\n",
      "memory usage: 17.7+ KB\n"
     ]
    }
   ],
   "source": [
    "df.info()"
   ]
  },
  {
   "cell_type": "markdown",
   "id": "68fe7ac1-0284-4b62-993f-a26639e40b37",
   "metadata": {},
   "source": [
    "## WE CAN OBSERVE THAT THERE IS NO NULL VALUES IN OUR DATA FRAME AND ITS WELL CLEANED"
   ]
  },
  {
   "cell_type": "code",
   "execution_count": 34,
   "id": "61ecbc58-df8d-459c-8b04-df0be6af0489",
   "metadata": {},
   "outputs": [
    {
     "data": {
      "text/plain": [
       "Brands\n",
       "SAMSUNG        0.327103\n",
       "GODREJ         0.186916\n",
       "WHIRLPOOL      0.137072\n",
       "HAIER          0.121495\n",
       "LG             0.074766\n",
       "PANASONIC      0.052960\n",
       "IFB            0.024922\n",
       "BOSCH          0.018692\n",
       "VOLTAS BEKO    0.015576\n",
       "WESTERN        0.012461\n",
       "BPL            0.006231\n",
       "LLOYD          0.006231\n",
       "BLUE STAR      0.006231\n",
       "TOSHIBA        0.006231\n",
       "MIDEA          0.003115\n",
       "Name: proportion, dtype: float64"
      ]
     },
     "execution_count": 34,
     "metadata": {},
     "output_type": "execute_result"
    }
   ],
   "source": [
    "df.Brands.value_counts(normalize=True)"
   ]
  },
  {
   "cell_type": "code",
   "execution_count": 35,
   "id": "43f1dd59-8b09-4a99-b493-3784dbd7ab31",
   "metadata": {},
   "outputs": [
    {
     "data": {
      "text/plain": [
       "Brands\n",
       "BLUE STAR      25045.000000\n",
       "BOSCH          39708.333333\n",
       "BPL            16789.500000\n",
       "GODREJ         22103.333333\n",
       "HAIER          26849.230769\n",
       "IFB            18965.000000\n",
       "LG             31694.166667\n",
       "LLOYD          24095.000000\n",
       "MIDEA          19990.000000\n",
       "PANASONIC      48395.882353\n",
       "SAMSUNG        41853.371429\n",
       "TOSHIBA        55490.000000\n",
       "VOLTAS BEKO    24000.000000\n",
       "WESTERN        34957.250000\n",
       "WHIRLPOOL      21594.636364\n",
       "Name: Prices, dtype: float64"
      ]
     },
     "execution_count": 35,
     "metadata": {},
     "output_type": "execute_result"
    }
   ],
   "source": [
    "df.Prices.groupby(df.Brands).mean()"
   ]
  },
  {
   "cell_type": "markdown",
   "id": "dcd6ee21-daf7-4c43-affc-ccb06ca65384",
   "metadata": {},
   "source": [
    "# AVERAGE PRICE PER BRAND"
   ]
  },
  {
   "cell_type": "code",
   "execution_count": 39,
   "id": "1fe9fe5c-0c39-4560-922a-9dd7705c6211",
   "metadata": {},
   "outputs": [],
   "source": [
    "df[\"stars_cat\"]=pd.cut(df.Stars,bins=[1,2,4,5],labels=[\"poor\",\"average\",\"excellent\"])"
   ]
  },
  {
   "cell_type": "code",
   "execution_count": 40,
   "id": "a0ebb729-771b-4b8e-93fa-850232d35a6d",
   "metadata": {},
   "outputs": [
    {
     "data": {
      "text/html": [
       "<div>\n",
       "<style scoped>\n",
       "    .dataframe tbody tr th:only-of-type {\n",
       "        vertical-align: middle;\n",
       "    }\n",
       "\n",
       "    .dataframe tbody tr th {\n",
       "        vertical-align: top;\n",
       "    }\n",
       "\n",
       "    .dataframe thead th {\n",
       "        text-align: right;\n",
       "    }\n",
       "</style>\n",
       "<table border=\"1\" class=\"dataframe\">\n",
       "  <thead>\n",
       "    <tr style=\"text-align: right;\">\n",
       "      <th></th>\n",
       "      <th>Stars</th>\n",
       "      <th>Ratings</th>\n",
       "      <th>Prices</th>\n",
       "      <th>Capacity</th>\n",
       "      <th>Energy_stars</th>\n",
       "    </tr>\n",
       "  </thead>\n",
       "  <tbody>\n",
       "    <tr>\n",
       "      <th>count</th>\n",
       "      <td>321.000000</td>\n",
       "      <td>321.000000</td>\n",
       "      <td>321.000000</td>\n",
       "      <td>321.000000</td>\n",
       "      <td>321.000000</td>\n",
       "    </tr>\n",
       "    <tr>\n",
       "      <th>mean</th>\n",
       "      <td>4.009346</td>\n",
       "      <td>1250.604361</td>\n",
       "      <td>31819.644860</td>\n",
       "      <td>283.283489</td>\n",
       "      <td>3.071651</td>\n",
       "    </tr>\n",
       "    <tr>\n",
       "      <th>std</th>\n",
       "      <td>0.494507</td>\n",
       "      <td>1708.104782</td>\n",
       "      <td>22494.324476</td>\n",
       "      <td>127.088911</td>\n",
       "      <td>1.047843</td>\n",
       "    </tr>\n",
       "    <tr>\n",
       "      <th>min</th>\n",
       "      <td>1.000000</td>\n",
       "      <td>1.000000</td>\n",
       "      <td>11580.000000</td>\n",
       "      <td>55.000000</td>\n",
       "      <td>1.000000</td>\n",
       "    </tr>\n",
       "    <tr>\n",
       "      <th>25%</th>\n",
       "      <td>3.900000</td>\n",
       "      <td>34.000000</td>\n",
       "      <td>16990.000000</td>\n",
       "      <td>190.000000</td>\n",
       "      <td>2.000000</td>\n",
       "    </tr>\n",
       "    <tr>\n",
       "      <th>50%</th>\n",
       "      <td>4.100000</td>\n",
       "      <td>370.000000</td>\n",
       "      <td>24990.000000</td>\n",
       "      <td>236.000000</td>\n",
       "      <td>3.000000</td>\n",
       "    </tr>\n",
       "    <tr>\n",
       "      <th>75%</th>\n",
       "      <td>4.200000</td>\n",
       "      <td>1721.000000</td>\n",
       "      <td>36590.000000</td>\n",
       "      <td>322.000000</td>\n",
       "      <td>4.000000</td>\n",
       "    </tr>\n",
       "    <tr>\n",
       "      <th>max</th>\n",
       "      <td>5.000000</td>\n",
       "      <td>6445.000000</td>\n",
       "      <td>181134.000000</td>\n",
       "      <td>688.000000</td>\n",
       "      <td>5.000000</td>\n",
       "    </tr>\n",
       "  </tbody>\n",
       "</table>\n",
       "</div>"
      ],
      "text/plain": [
       "            Stars      Ratings         Prices    Capacity  Energy_stars\n",
       "count  321.000000   321.000000     321.000000  321.000000    321.000000\n",
       "mean     4.009346  1250.604361   31819.644860  283.283489      3.071651\n",
       "std      0.494507  1708.104782   22494.324476  127.088911      1.047843\n",
       "min      1.000000     1.000000   11580.000000   55.000000      1.000000\n",
       "25%      3.900000    34.000000   16990.000000  190.000000      2.000000\n",
       "50%      4.100000   370.000000   24990.000000  236.000000      3.000000\n",
       "75%      4.200000  1721.000000   36590.000000  322.000000      4.000000\n",
       "max      5.000000  6445.000000  181134.000000  688.000000      5.000000"
      ]
     },
     "execution_count": 40,
     "metadata": {},
     "output_type": "execute_result"
    }
   ],
   "source": [
    "df.describe()"
   ]
  },
  {
   "cell_type": "markdown",
   "id": "233989bf-20d7-474b-95b6-b2e5da8afec0",
   "metadata": {},
   "source": [
    "### BY THE ABOVE NUMERIC STATISTICS WE CAN UNDER STAND THAT THERE MIGHT BE OUTLIERS IN THE RATINGS,PRICES,CAPACITY COLUMNS AS THERE LARGE DIFFERENCE BETWEEEN THE MEAN AND MEDIAN WE CAN OBSERVE THAT VISUALLY USING HISTOGRAM AND BOX PLOTS"
   ]
  },
  {
   "cell_type": "code",
   "execution_count": 6,
   "id": "f5563b5a-2b15-4cb9-a4df-869afa784b71",
   "metadata": {},
   "outputs": [
    {
     "data": {
      "text/plain": [
       "<Axes: >"
      ]
     },
     "execution_count": 6,
     "metadata": {},
     "output_type": "execute_result"
    },
    {
     "data": {
      "image/png": "[encoded data removed]",
      "text/plain": [
       "<Figure size 640x480 with 1 Axes>"
      ]
     },
     "metadata": {},
     "output_type": "display_data"
    }
   ],
   "source": [
    "df.Ratings.hist()"
   ]
  },
  {
   "cell_type": "code",
   "execution_count": 7,
   "id": "90273953-276c-4d28-81a2-dc6912dc432e",
   "metadata": {},
   "outputs": [
    {
     "data": {
      "text/plain": [
       "<Axes: ylabel='Ratings'>"
      ]
     },
     "execution_count": 7,
     "metadata": {},
     "output_type": "execute_result"
    },
    {
     "data": {
      "image/png": "[encoded data removed]",
      "text/plain": [
       "<Figure size 640x480 with 1 Axes>"
      ]
     },
     "metadata": {},
     "output_type": "display_data"
    }
   ],
   "source": [
    "sns.boxplot(df.Ratings)"
   ]
  },
  {
   "cell_type": "markdown",
   "id": "2f7db957-1411-4276-9684-70390d95a47c",
   "metadata": {},
   "source": [
    "## AS WE CAN SEE THERE IS RIGHT SKEWNESS IN THE HISTOGRAM AND OUTLIER DATA POINTS IN BOX PLOT"
   ]
  },
  {
   "cell_type": "code",
   "execution_count": 8,
   "id": "aca6b757-6a25-436c-a4aa-e7c9470ccca4",
   "metadata": {},
   "outputs": [],
   "source": [
    "from scipy.stats import skew"
   ]
  },
  {
   "cell_type": "code",
   "execution_count": 9,
   "id": "da53293f-c9d8-44aa-be55-e54e077488e8",
   "metadata": {},
   "outputs": [
    {
     "data": {
      "text/plain": [
       "np.float64(1.521585910835292)"
      ]
     },
     "execution_count": 9,
     "metadata": {},
     "output_type": "execute_result"
    }
   ],
   "source": [
    "skew(df.Ratings)"
   ]
  },
  {
   "cell_type": "code",
   "execution_count": 10,
   "id": "ef57c282-1eac-4158-88d0-c7a230ce5242",
   "metadata": {},
   "outputs": [
    {
     "data": {
      "text/plain": [
       "<Axes: >"
      ]
     },
     "execution_count": 10,
     "metadata": {},
     "output_type": "execute_result"
    },
    {
     "data": {
      "image/png": "[encoded data removed]",
      "text/plain": [
       "<Figure size 640x480 with 1 Axes>"
      ]
     },
     "metadata": {},
     "output_type": "display_data"
    }
   ],
   "source": [
    "df.Capacity.hist()"
   ]
  },
  {
   "cell_type": "markdown",
   "id": "43e0e437-bff4-4dd2-bce3-aa54cb1f10fd",
   "metadata": {},
   "source": [
    "## THE CAPACITY FEATURES HAVING SOME RIGHT SKEW BUT WE CAN SEE THAT ITS KINDA CLOSER TO NORMAL DISTRIBUTION "
   ]
  },
  {
   "cell_type": "code",
   "execution_count": 11,
   "id": "8e69e2fc-37b3-4ea7-a6f0-6f68f93700f7",
   "metadata": {},
   "outputs": [
    {
     "data": {
      "text/plain": [
       "<Axes: ylabel='Capacity'>"
      ]
     },
     "execution_count": 11,
     "metadata": {},
     "output_type": "execute_result"
    },
    {
     "data": {
      "image/png": "[encoded data removed]",
      "text/plain": [
       "<Figure size 640x480 with 1 Axes>"
      ]
     },
     "metadata": {},
     "output_type": "display_data"
    }
   ],
   "source": [
    "sns.boxplot(df.Capacity)"
   ]
  },
  {
   "cell_type": "code",
   "execution_count": 12,
   "id": "1ea6f432-da7b-4a99-9b05-fe766b81ae57",
   "metadata": {},
   "outputs": [
    {
     "data": {
      "text/plain": [
       "np.int64(29)"
      ]
     },
     "execution_count": 12,
     "metadata": {},
     "output_type": "execute_result"
    }
   ],
   "source": [
    "(df.Capacity>500).sum()"
   ]
  },
  {
   "cell_type": "code",
   "execution_count": 14,
   "id": "5c2a1e35-ffa3-4846-a1ac-ead6d8c60398",
   "metadata": {},
   "outputs": [
    {
     "data": {
      "text/plain": [
       "np.float64(1.634867646786889)"
      ]
     },
     "execution_count": 14,
     "metadata": {},
     "output_type": "execute_result"
    }
   ],
   "source": [
    "skew(df.Capacity)"
   ]
  },
  {
   "cell_type": "code",
   "execution_count": 13,
   "id": "39107478-fb3b-49d1-91f5-7d7752fee1f8",
   "metadata": {},
   "outputs": [
    {
     "data": {
      "text/plain": [
       "<Axes: >"
      ]
     },
     "execution_count": 13,
     "metadata": {},
     "output_type": "execute_result"
    },
    {
     "data": {
      "image/png": "[encoded data removed]",
      "text/plain": [
       "<Figure size 640x480 with 1 Axes>"
      ]
     },
     "metadata": {},
     "output_type": "display_data"
    }
   ],
   "source": [
    "df.Prices.hist()"
   ]
  },
  {
   "cell_type": "code",
   "execution_count": 15,
   "id": "ab984b86-c0f3-47a6-8a0d-54a649c09c76",
   "metadata": {},
   "outputs": [
    {
     "data": {
      "text/plain": [
       "<Axes: ylabel='Prices'>"
      ]
     },
     "execution_count": 15,
     "metadata": {},
     "output_type": "execute_result"
    },
    {
     "data": {
      "image/png": "[encoded data removed]",
      "text/plain": [
       "<Figure size 640x480 with 1 Axes>"
      ]
     },
     "metadata": {},
     "output_type": "display_data"
    }
   ],
   "source": [
    "sns.boxplot(df.Prices)"
   ]
  },
  {
   "cell_type": "markdown",
   "id": "18386308-8b84-423e-9acb-3a3eb5138c6b",
   "metadata": {},
   "source": [
    "## WE CAN CLEARLY SEE THAT THERE IS OUTLIERS IN THE PRICE FEATURE"
   ]
  },
  {
   "cell_type": "code",
   "execution_count": 16,
   "id": "fd06d201-db4c-4cce-bbc1-61a7aa652ba8",
   "metadata": {},
   "outputs": [
    {
     "data": {
      "text/plain": [
       "np.float64(2.5050107499317673)"
      ]
     },
     "execution_count": 16,
     "metadata": {},
     "output_type": "execute_result"
    }
   ],
   "source": [
    "skew(df.Prices)"
   ]
  },
  {
   "cell_type": "markdown",
   "id": "80c6d456-26c6-4279-91ef-c544d931adf4",
   "metadata": {},
   "source": [
    "# ON POWER BI WE CAN WORK ON THIS DATA SET WITHOUT FURTHER CLEANING ITS OUTLIERS WE PERFORMED EDA JUST TO SEE HOW THE DATA IS SPREAD AROUND THE MEAN AND TO PRACTICE THE EDA LETS WORK ON BI ANALYSIS"
   ]
  },
  {
   "cell_type": "code",
   "execution_count": 41,
   "id": "c79f84b6-dfca-4f17-ba64-07bb1fe893c1",
   "metadata": {},
   "outputs": [
    {
     "data": {
      "text/html": [
       "<div>\n",
       "<style scoped>\n",
       "    .dataframe tbody tr th:only-of-type {\n",
       "        vertical-align: middle;\n",
       "    }\n",
       "\n",
       "    .dataframe tbody tr th {\n",
       "        vertical-align: top;\n",
       "    }\n",
       "\n",
       "    .dataframe thead th {\n",
       "        text-align: right;\n",
       "    }\n",
       "</style>\n",
       "<table border=\"1\" class=\"dataframe\">\n",
       "  <thead>\n",
       "    <tr style=\"text-align: right;\">\n",
       "      <th></th>\n",
       "      <th>Stars</th>\n",
       "      <th>Ratings</th>\n",
       "      <th>Prices</th>\n",
       "      <th>Brands</th>\n",
       "      <th>Capacity</th>\n",
       "      <th>Energy_stars</th>\n",
       "      <th>config</th>\n",
       "      <th>stars_cat</th>\n",
       "    </tr>\n",
       "  </thead>\n",
       "  <tbody>\n",
       "    <tr>\n",
       "      <th>0</th>\n",
       "      <td>4.2</td>\n",
       "      <td>4708</td>\n",
       "      <td>27490</td>\n",
       "      <td>SAMSUNG</td>\n",
       "      <td>236.0</td>\n",
       "      <td>3</td>\n",
       "      <td>Freezer-on-Top</td>\n",
       "      <td>excellent</td>\n",
       "    </tr>\n",
       "    <tr>\n",
       "      <th>1</th>\n",
       "      <td>4.2</td>\n",
       "      <td>4708</td>\n",
       "      <td>27490</td>\n",
       "      <td>SAMSUNG</td>\n",
       "      <td>236.0</td>\n",
       "      <td>3</td>\n",
       "      <td>Freezer-on-Top</td>\n",
       "      <td>excellent</td>\n",
       "    </tr>\n",
       "    <tr>\n",
       "      <th>2</th>\n",
       "      <td>4.3</td>\n",
       "      <td>6445</td>\n",
       "      <td>24990</td>\n",
       "      <td>SAMSUNG</td>\n",
       "      <td>236.0</td>\n",
       "      <td>3</td>\n",
       "      <td>Freezer-on-Top</td>\n",
       "      <td>excellent</td>\n",
       "    </tr>\n",
       "    <tr>\n",
       "      <th>3</th>\n",
       "      <td>4.1</td>\n",
       "      <td>4025</td>\n",
       "      <td>11990</td>\n",
       "      <td>WHIRLPOOL</td>\n",
       "      <td>184.0</td>\n",
       "      <td>2</td>\n",
       "      <td>Single Door</td>\n",
       "      <td>excellent</td>\n",
       "    </tr>\n",
       "    <tr>\n",
       "      <th>4</th>\n",
       "      <td>4.3</td>\n",
       "      <td>6445</td>\n",
       "      <td>24990</td>\n",
       "      <td>SAMSUNG</td>\n",
       "      <td>236.0</td>\n",
       "      <td>3</td>\n",
       "      <td>Freezer-on-Top</td>\n",
       "      <td>excellent</td>\n",
       "    </tr>\n",
       "  </tbody>\n",
       "</table>\n",
       "</div>"
      ],
      "text/plain": [
       "   Stars  Ratings  Prices     Brands  Capacity  Energy_stars          config  \\\n",
       "0    4.2     4708   27490    SAMSUNG     236.0             3  Freezer-on-Top   \n",
       "1    4.2     4708   27490    SAMSUNG     236.0             3  Freezer-on-Top   \n",
       "2    4.3     6445   24990    SAMSUNG     236.0             3  Freezer-on-Top   \n",
       "3    4.1     4025   11990  WHIRLPOOL     184.0             2     Single Door   \n",
       "4    4.3     6445   24990    SAMSUNG     236.0             3  Freezer-on-Top   \n",
       "\n",
       "   stars_cat  \n",
       "0  excellent  \n",
       "1  excellent  \n",
       "2  excellent  \n",
       "3  excellent  \n",
       "4  excellent  "
      ]
     },
     "execution_count": 41,
     "metadata": {},
     "output_type": "execute_result"
    }
   ],
   "source": [
    "df.head()"
   ]
  },
  {
   "cell_type": "code",
   "execution_count": 56,
   "id": "583d4f8a-300b-4e34-a572-b5568cdb909f",
   "metadata": {},
   "outputs": [
    {
     "data": {
      "text/html": [
       "<div>\n",
       "<style scoped>\n",
       "    .dataframe tbody tr th:only-of-type {\n",
       "        vertical-align: middle;\n",
       "    }\n",
       "\n",
       "    .dataframe tbody tr th {\n",
       "        vertical-align: top;\n",
       "    }\n",
       "\n",
       "    .dataframe thead tr th {\n",
       "        text-align: left;\n",
       "    }\n",
       "\n",
       "    .dataframe thead tr:last-of-type th {\n",
       "        text-align: right;\n",
       "    }\n",
       "</style>\n",
       "<table border=\"1\" class=\"dataframe\">\n",
       "  <thead>\n",
       "    <tr>\n",
       "      <th></th>\n",
       "      <th colspan=\"10\" halign=\"left\">Capacity</th>\n",
       "      <th>...</th>\n",
       "      <th colspan=\"10\" halign=\"left\">config</th>\n",
       "    </tr>\n",
       "    <tr>\n",
       "      <th>Brands</th>\n",
       "      <th>BLUE STAR</th>\n",
       "      <th>BOSCH</th>\n",
       "      <th>BPL</th>\n",
       "      <th>GODREJ</th>\n",
       "      <th>HAIER</th>\n",
       "      <th>IFB</th>\n",
       "      <th>LG</th>\n",
       "      <th>LLOYD</th>\n",
       "      <th>MIDEA</th>\n",
       "      <th>PANASONIC</th>\n",
       "      <th>...</th>\n",
       "      <th>LG</th>\n",
       "      <th>LLOYD</th>\n",
       "      <th>MIDEA</th>\n",
       "      <th>PANASONIC</th>\n",
       "      <th>SAMSUNG</th>\n",
       "      <th>TOSHIBA</th>\n",
       "      <th>VOLTAS BEKO</th>\n",
       "      <th>WESTERN</th>\n",
       "      <th>WHIRLPOOL</th>\n",
       "      <th>All</th>\n",
       "    </tr>\n",
       "    <tr>\n",
       "      <th>stars_cat</th>\n",
       "      <th></th>\n",
       "      <th></th>\n",
       "      <th></th>\n",
       "      <th></th>\n",
       "      <th></th>\n",
       "      <th></th>\n",
       "      <th></th>\n",
       "      <th></th>\n",
       "      <th></th>\n",
       "      <th></th>\n",
       "      <th></th>\n",
       "      <th></th>\n",
       "      <th></th>\n",
       "      <th></th>\n",
       "      <th></th>\n",
       "      <th></th>\n",
       "      <th></th>\n",
       "      <th></th>\n",
       "      <th></th>\n",
       "      <th></th>\n",
       "      <th></th>\n",
       "    </tr>\n",
       "  </thead>\n",
       "  <tbody>\n",
       "    <tr>\n",
       "      <th>poor</th>\n",
       "      <td>NaN</td>\n",
       "      <td>NaN</td>\n",
       "      <td>NaN</td>\n",
       "      <td>NaN</td>\n",
       "      <td>NaN</td>\n",
       "      <td>NaN</td>\n",
       "      <td>NaN</td>\n",
       "      <td>NaN</td>\n",
       "      <td>NaN</td>\n",
       "      <td>NaN</td>\n",
       "      <td>...</td>\n",
       "      <td>NaN</td>\n",
       "      <td>NaN</td>\n",
       "      <td>NaN</td>\n",
       "      <td>NaN</td>\n",
       "      <td>NaN</td>\n",
       "      <td>NaN</td>\n",
       "      <td>NaN</td>\n",
       "      <td>NaN</td>\n",
       "      <td>1.0</td>\n",
       "      <td>1</td>\n",
       "    </tr>\n",
       "    <tr>\n",
       "      <th>average</th>\n",
       "      <td>2.0</td>\n",
       "      <td>3.0</td>\n",
       "      <td>NaN</td>\n",
       "      <td>40.0</td>\n",
       "      <td>19.0</td>\n",
       "      <td>7.0</td>\n",
       "      <td>6.0</td>\n",
       "      <td>NaN</td>\n",
       "      <td>1.0</td>\n",
       "      <td>5.0</td>\n",
       "      <td>...</td>\n",
       "      <td>6.0</td>\n",
       "      <td>NaN</td>\n",
       "      <td>1.0</td>\n",
       "      <td>5.0</td>\n",
       "      <td>15.0</td>\n",
       "      <td>1.0</td>\n",
       "      <td>4.0</td>\n",
       "      <td>3.0</td>\n",
       "      <td>31.0</td>\n",
       "      <td>137</td>\n",
       "    </tr>\n",
       "    <tr>\n",
       "      <th>excellent</th>\n",
       "      <td>NaN</td>\n",
       "      <td>2.0</td>\n",
       "      <td>1.0</td>\n",
       "      <td>20.0</td>\n",
       "      <td>19.0</td>\n",
       "      <td>1.0</td>\n",
       "      <td>18.0</td>\n",
       "      <td>1.0</td>\n",
       "      <td>NaN</td>\n",
       "      <td>12.0</td>\n",
       "      <td>...</td>\n",
       "      <td>18.0</td>\n",
       "      <td>1.0</td>\n",
       "      <td>NaN</td>\n",
       "      <td>12.0</td>\n",
       "      <td>90.0</td>\n",
       "      <td>1.0</td>\n",
       "      <td>1.0</td>\n",
       "      <td>1.0</td>\n",
       "      <td>12.0</td>\n",
       "      <td>179</td>\n",
       "    </tr>\n",
       "    <tr>\n",
       "      <th>All</th>\n",
       "      <td>2.0</td>\n",
       "      <td>5.0</td>\n",
       "      <td>1.0</td>\n",
       "      <td>60.0</td>\n",
       "      <td>38.0</td>\n",
       "      <td>8.0</td>\n",
       "      <td>24.0</td>\n",
       "      <td>1.0</td>\n",
       "      <td>1.0</td>\n",
       "      <td>17.0</td>\n",
       "      <td>...</td>\n",
       "      <td>24.0</td>\n",
       "      <td>1.0</td>\n",
       "      <td>1.0</td>\n",
       "      <td>17.0</td>\n",
       "      <td>105.0</td>\n",
       "      <td>2.0</td>\n",
       "      <td>5.0</td>\n",
       "      <td>4.0</td>\n",
       "      <td>44.0</td>\n",
       "      <td>317</td>\n",
       "    </tr>\n",
       "  </tbody>\n",
       "</table>\n",
       "<p>4 rows × 96 columns</p>\n",
       "</div>"
      ],
      "text/plain": [
       "           Capacity                                                           \\\n",
       "Brands    BLUE STAR BOSCH  BPL GODREJ HAIER  IFB    LG LLOYD MIDEA PANASONIC   \n",
       "stars_cat                                                                      \n",
       "poor            NaN   NaN  NaN    NaN   NaN  NaN   NaN   NaN   NaN       NaN   \n",
       "average         2.0   3.0  NaN   40.0  19.0  7.0   6.0   NaN   1.0       5.0   \n",
       "excellent       NaN   2.0  1.0   20.0  19.0  1.0  18.0   1.0   NaN      12.0   \n",
       "All             2.0   5.0  1.0   60.0  38.0  8.0  24.0   1.0   1.0      17.0   \n",
       "\n",
       "           ... config                                                    \\\n",
       "Brands     ...     LG LLOYD MIDEA PANASONIC SAMSUNG TOSHIBA VOLTAS BEKO   \n",
       "stars_cat  ...                                                            \n",
       "poor       ...    NaN   NaN   NaN       NaN     NaN     NaN         NaN   \n",
       "average    ...    6.0   NaN   1.0       5.0    15.0     1.0         4.0   \n",
       "excellent  ...   18.0   1.0   NaN      12.0    90.0     1.0         1.0   \n",
       "All        ...   24.0   1.0   1.0      17.0   105.0     2.0         5.0   \n",
       "\n",
       "                                  \n",
       "Brands    WESTERN WHIRLPOOL  All  \n",
       "stars_cat                         \n",
       "poor          NaN       1.0    1  \n",
       "average       3.0      31.0  137  \n",
       "excellent     1.0      12.0  179  \n",
       "All           4.0      44.0  317  \n",
       "\n",
       "[4 rows x 96 columns]"
      ]
     },
     "execution_count": 56,
     "metadata": {},
     "output_type": "execute_result"
    }
   ],
   "source": [
    "pd.pivot_table(df,index=\"stars_cat\",columns=\"Brands\",observed=True,aggfunc=\"count\",margins=True,sort=True)[:10]"
   ]
  },
  {
   "cell_type": "code",
   "execution_count": 58,
   "id": "71fe0826-fd69-4bce-adf0-0d4dff0c3502",
   "metadata": {},
   "outputs": [
    {
     "data": {
      "text/html": [
       "<div>\n",
       "<style scoped>\n",
       "    .dataframe tbody tr th:only-of-type {\n",
       "        vertical-align: middle;\n",
       "    }\n",
       "\n",
       "    .dataframe tbody tr th {\n",
       "        vertical-align: top;\n",
       "    }\n",
       "\n",
       "    .dataframe thead th {\n",
       "        text-align: right;\n",
       "    }\n",
       "</style>\n",
       "<table border=\"1\" class=\"dataframe\">\n",
       "  <thead>\n",
       "    <tr style=\"text-align: right;\">\n",
       "      <th>Brands</th>\n",
       "      <th>BLUE STAR</th>\n",
       "      <th>BOSCH</th>\n",
       "      <th>BPL</th>\n",
       "      <th>GODREJ</th>\n",
       "      <th>HAIER</th>\n",
       "      <th>IFB</th>\n",
       "      <th>LG</th>\n",
       "      <th>LLOYD</th>\n",
       "      <th>MIDEA</th>\n",
       "      <th>PANASONIC</th>\n",
       "      <th>SAMSUNG</th>\n",
       "      <th>TOSHIBA</th>\n",
       "      <th>VOLTAS BEKO</th>\n",
       "      <th>WESTERN</th>\n",
       "      <th>WHIRLPOOL</th>\n",
       "      <th>All</th>\n",
       "    </tr>\n",
       "    <tr>\n",
       "      <th>stars_cat</th>\n",
       "      <th></th>\n",
       "      <th></th>\n",
       "      <th></th>\n",
       "      <th></th>\n",
       "      <th></th>\n",
       "      <th></th>\n",
       "      <th></th>\n",
       "      <th></th>\n",
       "      <th></th>\n",
       "      <th></th>\n",
       "      <th></th>\n",
       "      <th></th>\n",
       "      <th></th>\n",
       "      <th></th>\n",
       "      <th></th>\n",
       "      <th></th>\n",
       "    </tr>\n",
       "  </thead>\n",
       "  <tbody>\n",
       "    <tr>\n",
       "      <th>poor</th>\n",
       "      <td>0</td>\n",
       "      <td>0</td>\n",
       "      <td>0</td>\n",
       "      <td>0</td>\n",
       "      <td>0</td>\n",
       "      <td>0</td>\n",
       "      <td>0</td>\n",
       "      <td>0</td>\n",
       "      <td>0</td>\n",
       "      <td>0</td>\n",
       "      <td>0</td>\n",
       "      <td>0</td>\n",
       "      <td>0</td>\n",
       "      <td>0</td>\n",
       "      <td>1</td>\n",
       "      <td>1</td>\n",
       "    </tr>\n",
       "    <tr>\n",
       "      <th>average</th>\n",
       "      <td>2</td>\n",
       "      <td>3</td>\n",
       "      <td>0</td>\n",
       "      <td>40</td>\n",
       "      <td>19</td>\n",
       "      <td>7</td>\n",
       "      <td>6</td>\n",
       "      <td>0</td>\n",
       "      <td>1</td>\n",
       "      <td>5</td>\n",
       "      <td>15</td>\n",
       "      <td>1</td>\n",
       "      <td>4</td>\n",
       "      <td>3</td>\n",
       "      <td>31</td>\n",
       "      <td>137</td>\n",
       "    </tr>\n",
       "    <tr>\n",
       "      <th>excellent</th>\n",
       "      <td>0</td>\n",
       "      <td>2</td>\n",
       "      <td>1</td>\n",
       "      <td>20</td>\n",
       "      <td>19</td>\n",
       "      <td>1</td>\n",
       "      <td>18</td>\n",
       "      <td>1</td>\n",
       "      <td>0</td>\n",
       "      <td>12</td>\n",
       "      <td>90</td>\n",
       "      <td>1</td>\n",
       "      <td>1</td>\n",
       "      <td>1</td>\n",
       "      <td>12</td>\n",
       "      <td>179</td>\n",
       "    </tr>\n",
       "    <tr>\n",
       "      <th>All</th>\n",
       "      <td>2</td>\n",
       "      <td>5</td>\n",
       "      <td>1</td>\n",
       "      <td>60</td>\n",
       "      <td>38</td>\n",
       "      <td>8</td>\n",
       "      <td>24</td>\n",
       "      <td>1</td>\n",
       "      <td>1</td>\n",
       "      <td>17</td>\n",
       "      <td>105</td>\n",
       "      <td>2</td>\n",
       "      <td>5</td>\n",
       "      <td>4</td>\n",
       "      <td>44</td>\n",
       "      <td>317</td>\n",
       "    </tr>\n",
       "  </tbody>\n",
       "</table>\n",
       "</div>"
      ],
      "text/plain": [
       "Brands     BLUE STAR  BOSCH  BPL  GODREJ  HAIER  IFB  LG  LLOYD  MIDEA  \\\n",
       "stars_cat                                                                \n",
       "poor               0      0    0       0      0    0   0      0      0   \n",
       "average            2      3    0      40     19    7   6      0      1   \n",
       "excellent          0      2    1      20     19    1  18      1      0   \n",
       "All                2      5    1      60     38    8  24      1      1   \n",
       "\n",
       "Brands     PANASONIC  SAMSUNG  TOSHIBA  VOLTAS BEKO  WESTERN  WHIRLPOOL  All  \n",
       "stars_cat                                                                     \n",
       "poor               0        0        0            0        0          1    1  \n",
       "average            5       15        1            4        3         31  137  \n",
       "excellent         12       90        1            1        1         12  179  \n",
       "All               17      105        2            5        4         44  317  "
      ]
     },
     "execution_count": 58,
     "metadata": {},
     "output_type": "execute_result"
    }
   ],
   "source": [
    "pd.crosstab(index=df.stars_cat,columns=df.Brands,margins=True)"
   ]
  },
  {
   "cell_type": "markdown",
   "id": "2380df86-fefa-4023-8242-6ec7984361f7",
   "metadata": {},
   "source": [
    "## BY THE ABOVE CROSS TABLE WE CAN CLEARLY UNDERSTAND THAT THE SAMSUNG,GODREJ,HAIER,LG AND WHIRLPOOL PRODUCTS HAS THE MOST EXCELLENT RATINGS THAT IS ABOVE 4.0 STARS"
   ]
  },
  {
   "cell_type": "code",
   "execution_count": 60,
   "id": "ff6cd90d-2c6f-4875-a639-f4fdfa1a71e3",
   "metadata": {},
   "outputs": [],
   "source": [
    "df.to_csv(\"featured_df_for_BI.csv\",index=False)"
   ]
  },
  {
   "cell_type": "code",
   "execution_count": null,
   "id": "1189f4ca-7d48-4cdb-9b9c-2bc3bd109aac",
   "metadata": {},
   "outputs": [],
   "source": []
  }
 ],
 "metadata": {
  "kernelspec": {
   "display_name": "Python 3 (ipykernel)",
   "language": "python",
   "name": "python3"
  },
  "language_info": {
   "codemirror_mode": {
    "name": "ipython",
    "version": 3
   },
   "file_extension": ".py",
   "mimetype": "text/x-python",
   "name": "python",
   "nbconvert_exporter": "python",
   "pygments_lexer": "ipython3",
   "version": "3.13.0"
  }
 },
 "nbformat": 4,
 "nbformat_minor": 5
}
