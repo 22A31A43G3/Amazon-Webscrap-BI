{
 "cells": [
  {
   "cell_type": "code",
   "execution_count": 18,
   "id": "6c53ff0d-5d95-4b27-bf6d-382e3e857fa0",
   "metadata": {},
   "outputs": [],
   "source": [
    "from selenium import webdriver\n",
    "from selenium.webdriver.common.by import By\n",
    "from selenium.webdriver.common.keys import Keys\n",
    "import time\n",
    "driver=webdriver.Chrome()\n",
    "driver.get(\"https://www.amazon.in/\")\n",
    "search=driver.find_element(By.ID,\"twotabsearchtextbox\")\n",
    "search.send_keys(\"refrigerators\")\n",
    "time.sleep(3)\n",
    "search.send_keys(Keys.ENTER)"
   ]
  },
  {
   "cell_type": "code",
   "execution_count": 37,
   "id": "9b46a764-4278-4a6f-a845-6cead25a2a40",
   "metadata": {},
   "outputs": [],
   "source": [
    "links=[]"
   ]
  },
  {
   "cell_type": "code",
   "execution_count": 61,
   "id": "23b108c2-2d5f-4d8d-84fa-cf7b33bfd3a1",
   "metadata": {},
   "outputs": [
    {
     "name": "stdout",
     "output_type": "stream",
     "text": [
      "['https://www.amazon.in/sspa/click?ie=UTF8&spc=MToxOTMzNzM4MjYwNDk4OTc5OjE3MzMyMDY5MDA6c3BfYXRmOjMwMDExMzAwNTM2MDkzMjo6MDo6&url=%2FSamsung-Convertible-Frost-Free-Refrigerator-RT28C3733B1%2Fdp%2FB0C5M9W28S%2Fref%3Dsr_1_1_sspa%3Fcrid%3DOMLXPBOSQZY6%26dib%3DeyJ2IjoiMSJ9.mz4-IJSoDj0hfeVKFvp7xovImLPXpcnbM_hpFTN29zF4-aaPSIe98ZgwJGXmtyStVz76mr2NDL2wN89BJBpCC5_9zZmF0EuARfM6W_G7Ivf4uLm3ElR2uZm4NjM37msWIYKmbBBOrnLSbUYZ1_uS9-HLUthW26-7mRDIgRf54TyRskOJSO2T14Y93Ft0VhJ0qakZ3qxkFlOVExlb8OukXh8k1GZTVMZYYf1rVI5CFac.v0nztzKO_BaopPCQ8xy-lmv74XaNCzCZcYDRXp2ceXo%26dib_tag%3Dse%26keywords%3Drefrigerators%26qid%3D1733206900%26sprefix%3Drefrigerators%252Caps%252C400%26sr%3D8-1-spons%26sp_csd%3Dd2lkZ2V0TmFtZT1zcF9hdGY%26psc%3D1', 'https://www.amazon.in/sspa/click?ie=UTF8&spc=MToxOTMzNzM4MjYwNDk4OTc5OjE3MzMyMDY5MDA6c3BfYXRmOjMwMDExMzAwNTM2MDczMjo6MDo6&url=%2FSamsung-Inverter-Refrigerator-RT28C3053S8-HL%2Fdp%2FB0C2TNR2X2%2Fref%3Dsr_1_2_sspa%3Fcrid%3DOMLXPBOSQZY6%26dib%3DeyJ2IjoiMSJ9.mz4-IJSoDj0hfeVKFvp7xovImLPXpcnbM_hpFTN29zF4-aaPSIe98ZgwJGXmtyStVz76mr2NDL2wN89BJBpCC5_9zZmF0EuARfM6W_G7Ivf4uLm3ElR2uZm4NjM37msWIYKmbBBOrnLSbUYZ1_uS9-HLUthW26-7mRDIgRf54TyRskOJSO2T14Y93Ft0VhJ0qakZ3qxkFlOVExlb8OukXh8k1GZTVMZYYf1rVI5CFac.v0nztzKO_BaopPCQ8xy-lmv74XaNCzCZcYDRXp2ceXo%26dib_tag%3Dse%26keywords%3Drefrigerators%26qid%3D1733206900%26sprefix%3Drefrigerators%252Caps%252C400%26sr%3D8-2-spons%26sp_csd%3Dd2lkZ2V0TmFtZT1zcF9hdGY%26psc%3D1', 'https://www.amazon.in/Whirlpool-Refrigerator-205-WDE-CLS/dp/B0BSRVL2VV/ref=sr_1_3?crid=OMLXPBOSQZY6&dib=eyJ2IjoiMSJ9.mz4-IJSoDj0hfeVKFvp7xovImLPXpcnbM_hpFTN29zF4-aaPSIe98ZgwJGXmtyStVz76mr2NDL2wN89BJBpCC5_9zZmF0EuARfM6W_G7Ivf4uLm3ElR2uZm4NjM37msWIYKmbBBOrnLSbUYZ1_uS9-HLUthW26-7mRDIgRf54TyRskOJSO2T14Y93Ft0VhJ0qakZ3qxkFlOVExlb8OukXh8k1GZTVMZYYf1rVI5CFac.v0nztzKO_BaopPCQ8xy-lmv74XaNCzCZcYDRXp2ceXo&dib_tag=se&keywords=refrigerators&qid=1733206900&sprefix=refrigerators%2Caps%2C400&sr=8-3']\n"
     ]
    }
   ],
   "source": [
    "for i in range(2):\n",
    "    time.sleep(10)\n",
    "    data=driver.find_elements(By.XPATH,\"\"\"//*[@class=\"a-size-mini a-spacing-none a-color-base s-line-clamp-2\"]/a\"\"\")\n",
    "    for i in data:\n",
    "        links.append(i.get_attribute(\"href\"))\n",
    "    time.sleep(2)\n",
    "    driver.find_element(By.XPATH,\"\"\"//*[@class=\"s-pagination-item s-pagination-next s-pagination-button s-pagination-button-accessibility s-pagination-separator\"]\"\"\").click()\n",
    "    time.sleep(5)\n",
    "print(links[0:3])"
   ]
  },
  {
   "cell_type": "code",
   "execution_count": 62,
   "id": "085776dc-9f55-4aec-b32e-bd6f7ad86057",
   "metadata": {},
   "outputs": [
    {
     "name": "stdout",
     "output_type": "stream",
     "text": [
      "483\n"
     ]
    }
   ],
   "source": [
    "print(len(links))"
   ]
  },
  {
   "cell_type": "code",
   "execution_count": 63,
   "id": "01035848-6337-41cc-99ab-31ee9258b59e",
   "metadata": {},
   "outputs": [],
   "source": [
    "stars=[]\n",
    "ratings=[]\n",
    "prices=[]\n",
    "brands=[]\n",
    "configs=[]\n",
    "eng_stars=[]\n",
    "weights=[]\n",
    "annual_energy=[]\n",
    "fre_cap=[]\n",
    "capacity=[]"
   ]
  },
  {
   "cell_type": "code",
   "execution_count": 65,
   "id": "51397f0c-ea84-45cb-8108-af88d0d2e8be",
   "metadata": {},
   "outputs": [
    {
     "name": "stdout",
     "output_type": "stream",
     "text": [
      "success\n"
     ]
    }
   ],
   "source": [
    "for i in links:\n",
    "    driver.get(i)\n",
    "    time.sleep(4)\n",
    "    try:\n",
    "        stars.append(driver.find_element(By.XPATH,\"\"\"//*[@id=\"acrPopover\"]/span[1]\"\"\").text)\n",
    "    except:\n",
    "        stars.append(None)\n",
    "    try:\n",
    "        ratings.append(driver.find_element(By.XPATH,\"\"\"//*[@id=\"acrCustomerReviewText\"]\"\"\").text)\n",
    "    except:\n",
    "        ratings.append(None)\n",
    "    try:\n",
    "        prices.append(driver.find_element(By.XPATH,'//span[@class=\"a-price-whole\"]').text)\n",
    "    except:\n",
    "        prices.append(None)\n",
    "    try:\n",
    "        brands.append(driver.find_element(By.XPATH,'//*[@class=\"a-normal a-spacing-micro\"]/tbody/tr[2]/td[2]/span').text)\n",
    "    except:\n",
    "        brands.append(None)\n",
    "    try:\n",
    "        capacity.append(driver.find_element(By.XPATH,'//*[@class=\"a-normal a-spacing-micro\"]/tbody/tr[3]/td[2]/span').text)\n",
    "    except:\n",
    "        capacity.append(None)\n",
    "    try:\n",
    "        configs.append(driver.find_element(By.XPATH,'//*[@class=\"a-normal a-spacing-micro\"]/tbody/tr[4]/td[2]/span').text)\n",
    "    except:\n",
    "        configs.append(None)\n",
    "    try:\n",
    "        eng_stars.append(driver.find_element(By.XPATH,'//*[@class=\"a-normal a-spacing-micro\"]/tbody/tr[5]/td[2]/span').text)\n",
    "    except:\n",
    "        eng_stars.append(None)\n",
    "    try:\n",
    "       button=driver.find_element(By.XPATH,'////*[@id=\"productDetails_expanderTables_depthRightSections\"]/div[3]/span/a/span')\n",
    "       button.click()\n",
    "    except:\n",
    "       continue\n",
    "    time.sleep(2)\n",
    "    try:\n",
    "        weights.append(driver.find_element(By.XPATH,'//*[@id=\"productDetails_expanderTables_depthRightSections\"]/div[3]/div/div/table/tbody/tr/td').text)\n",
    "    except:\n",
    "        weights.append(None)\n",
    "    try:\n",
    "        annual_energy.append(driver.find_element(By.XPATH,'//*[@id=\"productDetails_expanderTables_depthRightSections\"]/div[3]/div/div/table/tbody/tr[3]/td').text)\n",
    "    except:\n",
    "        annual_energy.append(None)\n",
    "print(\"success\")"
   ]
  },
  {
   "cell_type": "code",
   "execution_count": 77,
   "id": "9f811b82-2825-4093-ab1f-bbf37e66f897",
   "metadata": {},
   "outputs": [
    {
     "name": "stdout",
     "output_type": "stream",
     "text": [
      "['3 Star', '3 Star', '3 Star', '2 Star', '3 Star', 'Alpha Steel', '2 Star', '3 Star', '5 Star', '4 Star']\n"
     ]
    }
   ],
   "source": [
    "print(eng_stars[0:10])"
   ]
  },
  {
   "cell_type": "code",
   "execution_count": 79,
   "id": "e6021d4c-b136-4e16-b137-0971e0d95d11",
   "metadata": {},
   "outputs": [
    {
     "data": {
      "text/html": [
       "<div>\n",
       "<style scoped>\n",
       "    .dataframe tbody tr th:only-of-type {\n",
       "        vertical-align: middle;\n",
       "    }\n",
       "\n",
       "    .dataframe tbody tr th {\n",
       "        vertical-align: top;\n",
       "    }\n",
       "\n",
       "    .dataframe thead th {\n",
       "        text-align: right;\n",
       "    }\n",
       "</style>\n",
       "<table border=\"1\" class=\"dataframe\">\n",
       "  <thead>\n",
       "    <tr style=\"text-align: right;\">\n",
       "      <th></th>\n",
       "      <th>Stars</th>\n",
       "      <th>Ratings</th>\n",
       "      <th>Prices</th>\n",
       "      <th>Brands</th>\n",
       "      <th>Capacity</th>\n",
       "      <th>Energy_stars</th>\n",
       "      <th>config</th>\n",
       "    </tr>\n",
       "  </thead>\n",
       "  <tbody>\n",
       "    <tr>\n",
       "      <th>0</th>\n",
       "      <td>4.2</td>\n",
       "      <td>4,708 ratings</td>\n",
       "      <td>27,490</td>\n",
       "      <td>Samsung</td>\n",
       "      <td>236 litres</td>\n",
       "      <td>3 Star</td>\n",
       "      <td>Freezer-on-Top</td>\n",
       "    </tr>\n",
       "    <tr>\n",
       "      <th>1</th>\n",
       "      <td>4.2</td>\n",
       "      <td>4,708 ratings</td>\n",
       "      <td>27,490</td>\n",
       "      <td>Samsung</td>\n",
       "      <td>236 litres</td>\n",
       "      <td>3 Star</td>\n",
       "      <td>Freezer-on-Top</td>\n",
       "    </tr>\n",
       "    <tr>\n",
       "      <th>2</th>\n",
       "      <td>4.3</td>\n",
       "      <td>6,445 ratings</td>\n",
       "      <td>24,990</td>\n",
       "      <td>Samsung</td>\n",
       "      <td>236 litres</td>\n",
       "      <td>3 Star</td>\n",
       "      <td>Freezer-on-Top</td>\n",
       "    </tr>\n",
       "    <tr>\n",
       "      <th>3</th>\n",
       "      <td>4.1</td>\n",
       "      <td>4,025 ratings</td>\n",
       "      <td>11,990</td>\n",
       "      <td>Whirlpool</td>\n",
       "      <td>184 litres</td>\n",
       "      <td>2 Star</td>\n",
       "      <td>Single Door</td>\n",
       "    </tr>\n",
       "    <tr>\n",
       "      <th>4</th>\n",
       "      <td>4.3</td>\n",
       "      <td>6,445 ratings</td>\n",
       "      <td>24,990</td>\n",
       "      <td>Samsung</td>\n",
       "      <td>236 litres</td>\n",
       "      <td>3 Star</td>\n",
       "      <td>Freezer-on-Top</td>\n",
       "    </tr>\n",
       "  </tbody>\n",
       "</table>\n",
       "</div>"
      ],
      "text/plain": [
       "  Stars        Ratings  Prices     Brands    Capacity Energy_stars  \\\n",
       "0   4.2  4,708 ratings  27,490    Samsung  236 litres       3 Star   \n",
       "1   4.2  4,708 ratings  27,490    Samsung  236 litres       3 Star   \n",
       "2   4.3  6,445 ratings  24,990    Samsung  236 litres       3 Star   \n",
       "3   4.1  4,025 ratings  11,990  Whirlpool  184 litres       2 Star   \n",
       "4   4.3  6,445 ratings  24,990    Samsung  236 litres       3 Star   \n",
       "\n",
       "           config  \n",
       "0  Freezer-on-Top  \n",
       "1  Freezer-on-Top  \n",
       "2  Freezer-on-Top  \n",
       "3     Single Door  \n",
       "4  Freezer-on-Top  "
      ]
     },
     "execution_count": 79,
     "metadata": {},
     "output_type": "execute_result"
    }
   ],
   "source": [
    "import pandas  as pd\n",
    "df=pd.DataFrame({\"Stars\":stars,\"Ratings\":ratings,\"Prices\":prices,\"Brands\":brands,\"Capacity\":capacity,\"Energy_stars\":eng_stars,\"config\":configs})\n",
    "df.head()"
   ]
  },
  {
   "cell_type": "code",
   "execution_count": 80,
   "id": "6f8acdfc-820c-4c6e-8217-f95fba85cc7b",
   "metadata": {},
   "outputs": [
    {
     "data": {
      "text/plain": [
       "Stars           69\n",
       "Ratings         69\n",
       "Prices           0\n",
       "Brands          30\n",
       "Capacity        30\n",
       "Energy_stars    31\n",
       "config          31\n",
       "dtype: int64"
      ]
     },
     "execution_count": 80,
     "metadata": {},
     "output_type": "execute_result"
    }
   ],
   "source": [
    "df.isnull().sum()"
   ]
  },
  {
   "cell_type": "code",
   "execution_count": 89,
   "id": "834044a1-5970-4b58-8873-2e52503e7a0d",
   "metadata": {},
   "outputs": [
    {
     "data": {
      "text/plain": [
       "array(['Freezer-on-Top', 'Single Door', 'Triple', 'Single', 'Double Door',\n",
       "       'Single,Single Door', 'Full-Sized Freezer-on-Top',\n",
       "       'Full-Sized Freezer-on-Bottom', 'Full-Sized Side-by-Side',\n",
       "       'Full-Sized French Door', 'Side-by-Side', '5 Star', 'Convertible',\n",
       "       'Compact Freezer-on-Top', 'Double', 'Compact',\n",
       "       'Standard double door', '2 Star', 'Internal Freezer', 'Compressor',\n",
       "       'Mini', None, 'White', 'Multi', 'Compact Internal Freezer',\n",
       "       'Freezer-on-Bottom', '3 Star', 'White and Blue',\n",
       "       'JAZZ Black with Wifi', 'Rose Gold', 'Freezer Top', 'French Door',\n",
       "       'Freezerless', 'Wooden', 'Black,Orange', 'Bottom Frezzer',\n",
       "       'standard double door', 'As Shown in the image',\n",
       "       'Compact Freezerless', 'French Door, Side-by-Side',\n",
       "       'Stellata Blue', '1 Star', 'Portable', 'AWD configuration',\n",
       "       'Freestanding', 'Granite Glass', '4 Star', 'As per picture',\n",
       "       'Dual', 'grey', '4', 'Compact Freezer-On-Bottom'], dtype=object)"
      ]
     },
     "execution_count": 89,
     "metadata": {},
     "output_type": "execute_result"
    }
   ],
   "source": [
    "df.config.unique()"
   ]
  },
  {
   "cell_type": "code",
   "execution_count": 88,
   "id": "69b8df6e-a217-4c3d-af78-7f6be4fdedc2",
   "metadata": {},
   "outputs": [
    {
     "data": {
      "text/plain": [
       "412"
      ]
     },
     "execution_count": 88,
     "metadata": {},
     "output_type": "execute_result"
    }
   ],
   "source": [
    "df.Brands.str.isalnum().sum()"
   ]
  },
  {
   "cell_type": "code",
   "execution_count": 110,
   "id": "e0815f88-36d8-48f9-8986-88d6d125a37d",
   "metadata": {},
   "outputs": [
    {
     "data": {
      "text/plain": [
       "0      Freezer-on-Top\n",
       "1      Freezer-on-Top\n",
       "2      Freezer-on-Top\n",
       "3         Single Door\n",
       "4      Freezer-on-Top\n",
       "            ...      \n",
       "479       Double Door\n",
       "480    Freezer-on-Top\n",
       "481    Freezer-on-Top\n",
       "482      Side-by-Side\n",
       "483    Freezer-on-Top\n",
       "Name: config, Length: 484, dtype: object"
      ]
     },
     "execution_count": 110,
     "metadata": {},
     "output_type": "execute_result"
    }
   ],
   "source": [
    "df[\"config\"].str.replace(\"star\",\"\").str.replace(\"Mini\",\"Mini One\")"
   ]
  },
  {
   "cell_type": "code",
   "execution_count": 111,
   "id": "425b2199-79f4-4cea-b822-008843f085da",
   "metadata": {},
   "outputs": [],
   "source": [
    "df.to_csv(\"amazon_webscrep.csv\")"
   ]
  },
  {
   "cell_type": "code",
   "execution_count": null,
   "id": "5b47e276-4236-4174-9f0f-5d748d33e1c5",
   "metadata": {},
   "outputs": [],
   "source": []
  }
 ],
 "metadata": {
  "kernelspec": {
   "display_name": "Python 3 (ipykernel)",
   "language": "python",
   "name": "python3"
  },
  "language_info": {
   "codemirror_mode": {
    "name": "ipython",
    "version": 3
   },
   "file_extension": ".py",
   "mimetype": "text/x-python",
   "name": "python",
   "nbconvert_exporter": "python",
   "pygments_lexer": "ipython3",
   "version": "3.13.0"
  }
 },
 "nbformat": 4,
 "nbformat_minor": 5
}
