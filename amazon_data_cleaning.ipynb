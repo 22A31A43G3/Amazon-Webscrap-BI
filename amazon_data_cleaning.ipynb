{
 "cells": [
  {
   "cell_type": "code",
   "execution_count": 53,
   "id": "5e9c5f11-2b0f-4234-a5ef-65e1a8b5a2e0",
   "metadata": {},
   "outputs": [
    {
     "data": {
      "text/html": [
       "<div>\n",
       "<style scoped>\n",
       "    .dataframe tbody tr th:only-of-type {\n",
       "        vertical-align: middle;\n",
       "    }\n",
       "\n",
       "    .dataframe tbody tr th {\n",
       "        vertical-align: top;\n",
       "    }\n",
       "\n",
       "    .dataframe thead th {\n",
       "        text-align: right;\n",
       "    }\n",
       "</style>\n",
       "<table border=\"1\" class=\"dataframe\">\n",
       "  <thead>\n",
       "    <tr style=\"text-align: right;\">\n",
       "      <th></th>\n",
       "      <th>Stars</th>\n",
       "      <th>Ratings</th>\n",
       "      <th>Prices</th>\n",
       "      <th>Brands</th>\n",
       "      <th>Capacity</th>\n",
       "      <th>Energy_stars</th>\n",
       "      <th>config</th>\n",
       "    </tr>\n",
       "  </thead>\n",
       "  <tbody>\n",
       "    <tr>\n",
       "      <th>0</th>\n",
       "      <td>4.2</td>\n",
       "      <td>4,708 ratings</td>\n",
       "      <td>27,490</td>\n",
       "      <td>Samsung</td>\n",
       "      <td>236 litres</td>\n",
       "      <td>3 Star</td>\n",
       "      <td>Freezer-on-Top</td>\n",
       "    </tr>\n",
       "    <tr>\n",
       "      <th>1</th>\n",
       "      <td>4.2</td>\n",
       "      <td>4,708 ratings</td>\n",
       "      <td>27,490</td>\n",
       "      <td>Samsung</td>\n",
       "      <td>236 litres</td>\n",
       "      <td>3 Star</td>\n",
       "      <td>Freezer-on-Top</td>\n",
       "    </tr>\n",
       "    <tr>\n",
       "      <th>2</th>\n",
       "      <td>4.3</td>\n",
       "      <td>6,445 ratings</td>\n",
       "      <td>24,990</td>\n",
       "      <td>Samsung</td>\n",
       "      <td>236 litres</td>\n",
       "      <td>3 Star</td>\n",
       "      <td>Freezer-on-Top</td>\n",
       "    </tr>\n",
       "    <tr>\n",
       "      <th>3</th>\n",
       "      <td>4.1</td>\n",
       "      <td>4,025 ratings</td>\n",
       "      <td>11,990</td>\n",
       "      <td>Whirlpool</td>\n",
       "      <td>184 litres</td>\n",
       "      <td>2 Star</td>\n",
       "      <td>Single Door</td>\n",
       "    </tr>\n",
       "    <tr>\n",
       "      <th>4</th>\n",
       "      <td>4.3</td>\n",
       "      <td>6,445 ratings</td>\n",
       "      <td>24,990</td>\n",
       "      <td>Samsung</td>\n",
       "      <td>236 litres</td>\n",
       "      <td>3 Star</td>\n",
       "      <td>Freezer-on-Top</td>\n",
       "    </tr>\n",
       "  </tbody>\n",
       "</table>\n",
       "</div>"
      ],
      "text/plain": [
       "   Stars        Ratings  Prices     Brands    Capacity Energy_stars  \\\n",
       "0    4.2  4,708 ratings  27,490    Samsung  236 litres       3 Star   \n",
       "1    4.2  4,708 ratings  27,490    Samsung  236 litres       3 Star   \n",
       "2    4.3  6,445 ratings  24,990    Samsung  236 litres       3 Star   \n",
       "3    4.1  4,025 ratings  11,990  Whirlpool  184 litres       2 Star   \n",
       "4    4.3  6,445 ratings  24,990    Samsung  236 litres       3 Star   \n",
       "\n",
       "           config  \n",
       "0  Freezer-on-Top  \n",
       "1  Freezer-on-Top  \n",
       "2  Freezer-on-Top  \n",
       "3     Single Door  \n",
       "4  Freezer-on-Top  "
      ]
     },
     "execution_count": 53,
     "metadata": {},
     "output_type": "execute_result"
    }
   ],
   "source": [
    "import pandas as pd\n",
    "df=pd.read_csv(\"amazon_webscrep.csv\",index_col=0)\n",
    "df.head()"
   ]
  },
  {
   "cell_type": "code",
   "execution_count": 54,
   "id": "f38d6f4a-c4a9-4170-9437-5978b4ecdd15",
   "metadata": {},
   "outputs": [
    {
     "data": {
      "text/plain": [
       "array(['Freezer-on-Top', 'Single Door', 'Triple', 'Single', 'Double Door',\n",
       "       'Single,Single Door', 'Full-Sized Freezer-on-Top',\n",
       "       'Full-Sized Freezer-on-Bottom', 'Full-Sized Side-by-Side',\n",
       "       'Full-Sized French Door', 'Side-by-Side', '5 Star', 'Convertible',\n",
       "       'Compact Freezer-on-Top', 'Double', 'Compact',\n",
       "       'Standard double door', '2 Star', 'Internal Freezer', 'Compressor',\n",
       "       'Mini', nan, 'White', 'Multi', 'Compact Internal Freezer',\n",
       "       'Freezer-on-Bottom', '3 Star', 'White and Blue',\n",
       "       'JAZZ Black with Wifi', 'Rose Gold', 'Freezer Top', 'French Door',\n",
       "       'Freezerless', 'Wooden', 'Black,Orange', 'Bottom Frezzer',\n",
       "       'standard double door', 'As Shown in the image',\n",
       "       'Compact Freezerless', 'French Door, Side-by-Side',\n",
       "       'Stellata Blue', '1 Star', 'Portable', 'AWD configuration',\n",
       "       'Freestanding', 'Granite Glass', '4 Star', 'As per picture',\n",
       "       'Dual', 'grey', '4', 'Compact Freezer-On-Bottom'], dtype=object)"
      ]
     },
     "execution_count": 54,
     "metadata": {},
     "output_type": "execute_result"
    }
   ],
   "source": [
    "df.config.unique()"
   ]
  },
  {
   "cell_type": "code",
   "execution_count": 55,
   "id": "2b058bee-b020-4c83-a03f-29b1b89d4554",
   "metadata": {},
   "outputs": [],
   "source": [
    "df.config=df.config.str.replace(\"Star\",\"\")"
   ]
  },
  {
   "cell_type": "code",
   "execution_count": 56,
   "id": "4bb6fcd9-898f-4435-bb61-f36353cba53e",
   "metadata": {},
   "outputs": [],
   "source": [
    "rows=list(df.config.value_counts().head(23).index)"
   ]
  },
  {
   "cell_type": "code",
   "execution_count": 57,
   "id": "d36b2337-0e47-4573-a207-60c9b61ef3a3",
   "metadata": {},
   "outputs": [
    {
     "data": {
      "text/plain": [
       "['Freezer-on-Top',\n",
       " 'Single',\n",
       " 'Double Door',\n",
       " 'Side-by-Side',\n",
       " 'Full-Sized Freezer-on-Top',\n",
       " 'Double',\n",
       " '2 ',\n",
       " 'Convertible',\n",
       " 'Single Door',\n",
       " 'Full-Sized Side-by-Side',\n",
       " '3 ',\n",
       " 'Freezer-on-Bottom',\n",
       " 'Standard double door',\n",
       " 'Full-Sized Freezer-on-Bottom',\n",
       " '5 ',\n",
       " 'Compact Freezer-on-Top',\n",
       " 'Compact Freezerless',\n",
       " 'Full-Sized French Door',\n",
       " 'Freezerless',\n",
       " 'French Door',\n",
       " 'Compact',\n",
       " 'Single,Single Door',\n",
       " 'Triple']"
      ]
     },
     "execution_count": 57,
     "metadata": {},
     "output_type": "execute_result"
    }
   ],
   "source": [
    "rows"
   ]
  },
  {
   "cell_type": "code",
   "execution_count": 58,
   "id": "71d47b30-492b-42a3-b1f6-b2e1a49dafb4",
   "metadata": {},
   "outputs": [],
   "source": [
    "df.config=df.config.apply(lambda x:x if (x in rows and len(x)>3) else None)"
   ]
  },
  {
   "cell_type": "code",
   "execution_count": 59,
   "id": "99998d84-664b-41b8-831a-435ac1d0a875",
   "metadata": {},
   "outputs": [],
   "source": [
    "df.dropna(axis=0,inplace=True)"
   ]
  },
  {
   "cell_type": "code",
   "execution_count": 60,
   "id": "88ecc465-3f58-4d3a-b897-e1f8ccc4f92e",
   "metadata": {},
   "outputs": [
    {
     "data": {
      "text/plain": [
       "(359, 7)"
      ]
     },
     "execution_count": 60,
     "metadata": {},
     "output_type": "execute_result"
    }
   ],
   "source": [
    "df.shape"
   ]
  },
  {
   "cell_type": "code",
   "execution_count": 61,
   "id": "a70ad684-0855-469e-8ee0-f97b1bac4674",
   "metadata": {},
   "outputs": [],
   "source": [
    "replacements={'Single,Single Door':'Single Door','Single':'Single Door','Triple':'Triple Door','Double':'Double Door',}\n",
    "df.config=df[\"config\"].replace(replacements)"
   ]
  },
  {
   "cell_type": "code",
   "execution_count": 62,
   "id": "bde98ed3-7025-416d-8122-236472805e43",
   "metadata": {},
   "outputs": [
    {
     "data": {
      "text/plain": [
       "array(['Freezer-on-Top', 'Single Door', 'Triple Door', 'Double Door',\n",
       "       'Full-Sized Freezer-on-Top', 'Full-Sized Freezer-on-Bottom',\n",
       "       'Full-Sized Side-by-Side', 'Full-Sized French Door',\n",
       "       'Side-by-Side', 'Convertible', 'Compact Freezer-on-Top', 'Compact',\n",
       "       'Standard double door', 'Freezer-on-Bottom', 'French Door',\n",
       "       'Compact Freezerless'], dtype=object)"
      ]
     },
     "execution_count": 62,
     "metadata": {},
     "output_type": "execute_result"
    }
   ],
   "source": [
    "df.config.unique()"
   ]
  },
  {
   "cell_type": "code",
   "execution_count": 63,
   "id": "f5879bdc-58d5-46ec-aac6-6076a4c33c11",
   "metadata": {},
   "outputs": [
    {
     "data": {
      "text/html": [
       "<div>\n",
       "<style scoped>\n",
       "    .dataframe tbody tr th:only-of-type {\n",
       "        vertical-align: middle;\n",
       "    }\n",
       "\n",
       "    .dataframe tbody tr th {\n",
       "        vertical-align: top;\n",
       "    }\n",
       "\n",
       "    .dataframe thead th {\n",
       "        text-align: right;\n",
       "    }\n",
       "</style>\n",
       "<table border=\"1\" class=\"dataframe\">\n",
       "  <thead>\n",
       "    <tr style=\"text-align: right;\">\n",
       "      <th></th>\n",
       "      <th>Stars</th>\n",
       "      <th>Ratings</th>\n",
       "      <th>Prices</th>\n",
       "      <th>Brands</th>\n",
       "      <th>Capacity</th>\n",
       "      <th>Energy_stars</th>\n",
       "      <th>config</th>\n",
       "    </tr>\n",
       "  </thead>\n",
       "  <tbody>\n",
       "    <tr>\n",
       "      <th>0</th>\n",
       "      <td>4.2</td>\n",
       "      <td>4,708 ratings</td>\n",
       "      <td>27,490</td>\n",
       "      <td>Samsung</td>\n",
       "      <td>236 litres</td>\n",
       "      <td>3 Star</td>\n",
       "      <td>Freezer-on-Top</td>\n",
       "    </tr>\n",
       "    <tr>\n",
       "      <th>1</th>\n",
       "      <td>4.2</td>\n",
       "      <td>4,708 ratings</td>\n",
       "      <td>27,490</td>\n",
       "      <td>Samsung</td>\n",
       "      <td>236 litres</td>\n",
       "      <td>3 Star</td>\n",
       "      <td>Freezer-on-Top</td>\n",
       "    </tr>\n",
       "    <tr>\n",
       "      <th>2</th>\n",
       "      <td>4.3</td>\n",
       "      <td>6,445 ratings</td>\n",
       "      <td>24,990</td>\n",
       "      <td>Samsung</td>\n",
       "      <td>236 litres</td>\n",
       "      <td>3 Star</td>\n",
       "      <td>Freezer-on-Top</td>\n",
       "    </tr>\n",
       "    <tr>\n",
       "      <th>3</th>\n",
       "      <td>4.1</td>\n",
       "      <td>4,025 ratings</td>\n",
       "      <td>11,990</td>\n",
       "      <td>Whirlpool</td>\n",
       "      <td>184 litres</td>\n",
       "      <td>2 Star</td>\n",
       "      <td>Single Door</td>\n",
       "    </tr>\n",
       "    <tr>\n",
       "      <th>4</th>\n",
       "      <td>4.3</td>\n",
       "      <td>6,445 ratings</td>\n",
       "      <td>24,990</td>\n",
       "      <td>Samsung</td>\n",
       "      <td>236 litres</td>\n",
       "      <td>3 Star</td>\n",
       "      <td>Freezer-on-Top</td>\n",
       "    </tr>\n",
       "  </tbody>\n",
       "</table>\n",
       "</div>"
      ],
      "text/plain": [
       "   Stars        Ratings  Prices     Brands    Capacity Energy_stars  \\\n",
       "0    4.2  4,708 ratings  27,490    Samsung  236 litres       3 Star   \n",
       "1    4.2  4,708 ratings  27,490    Samsung  236 litres       3 Star   \n",
       "2    4.3  6,445 ratings  24,990    Samsung  236 litres       3 Star   \n",
       "3    4.1  4,025 ratings  11,990  Whirlpool  184 litres       2 Star   \n",
       "4    4.3  6,445 ratings  24,990    Samsung  236 litres       3 Star   \n",
       "\n",
       "           config  \n",
       "0  Freezer-on-Top  \n",
       "1  Freezer-on-Top  \n",
       "2  Freezer-on-Top  \n",
       "3     Single Door  \n",
       "4  Freezer-on-Top  "
      ]
     },
     "execution_count": 63,
     "metadata": {},
     "output_type": "execute_result"
    }
   ],
   "source": [
    "df.head()"
   ]
  },
  {
   "cell_type": "code",
   "execution_count": 64,
   "id": "027bcf97-f9c2-490b-9750-5a7529be375f",
   "metadata": {},
   "outputs": [
    {
     "data": {
      "text/plain": [
       "array(['Samsung', 'Whirlpool', 'Haier', 'Godrej', 'IFB', 'LG',\n",
       "       'Voltas Beko', 'Panasonic', 'Blue Star', 'Amazon Brand - Solimo',\n",
       "       'ROCKWELL', 'Midea', 'WESTERN', 'Western', 'BPL', 'Bosch',\n",
       "       'TOSHIBA', 'Electrolux', 'Robustt', 'Voltas', 'Lloyd', 'VYBE',\n",
       "       'Tropicool', 'Gem', 'Godrej Locking Solutions and Systems'],\n",
       "      dtype=object)"
      ]
     },
     "execution_count": 64,
     "metadata": {},
     "output_type": "execute_result"
    }
   ],
   "source": [
    "df.Brands.unique()"
   ]
  },
  {
   "cell_type": "markdown",
   "id": "209497a8-6cce-4a4b-af26-9c03d4ebd6c8",
   "metadata": {},
   "source": [
    "### THE BRANDS COLUMN SEEMS GOOD WITHOUT ANY UNRELATED DATA AS WE CLEANED THEM IN CONFIGURATIONS BUT THERE IS WESTERN IN UPPER AND LOWER CASE AND GODREJ IN TWO DIFFERENT FORMATS LETS CHANGE"
   ]
  },
  {
   "cell_type": "code",
   "execution_count": 65,
   "id": "06d78f31-0aaa-437c-bd9e-3bc60f792753",
   "metadata": {},
   "outputs": [],
   "source": [
    "replacements={'WESTERN':'Western','Godrej Locking Solutions and Systems':'Godrej'}\n",
    "df.Brands=df[\"Brands\"].replace(replacements).str.upper()"
   ]
  },
  {
   "cell_type": "code",
   "execution_count": 66,
   "id": "8b6f09cd-c815-4877-929a-e6f97693ca7c",
   "metadata": {},
   "outputs": [
    {
     "data": {
      "text/plain": [
       "array(['SAMSUNG', 'WHIRLPOOL', 'HAIER', 'GODREJ', 'IFB', 'LG',\n",
       "       'VOLTAS BEKO', 'PANASONIC', 'BLUE STAR', 'AMAZON BRAND - SOLIMO',\n",
       "       'ROCKWELL', 'MIDEA', 'WESTERN', 'BPL', 'BOSCH', 'TOSHIBA',\n",
       "       'ELECTROLUX', 'ROBUSTT', 'VOLTAS', 'LLOYD', 'VYBE', 'TROPICOOL',\n",
       "       'GEM'], dtype=object)"
      ]
     },
     "execution_count": 66,
     "metadata": {},
     "output_type": "execute_result"
    }
   ],
   "source": [
    "df.Brands.unique()"
   ]
  },
  {
   "cell_type": "code",
   "execution_count": 67,
   "id": "913d115b-63c4-4282-a476-29bf1c4b2f9a",
   "metadata": {},
   "outputs": [
    {
     "data": {
      "text/plain": [
       "array([4.2, 4.3, 4.1, 3.9, 4. , 3.8, 3.4, 3.6, 3.5, 5. , 3.7, 3.3, 3.2,\n",
       "       3.1, 4.4, 2.8, 2.9, 3. , 4.5, 1. , 1.8])"
      ]
     },
     "execution_count": 67,
     "metadata": {},
     "output_type": "execute_result"
    }
   ],
   "source": [
    "df.Stars.unique()"
   ]
  },
  {
   "cell_type": "markdown",
   "id": "87d45c7a-f21b-4135-a8b1-de533b5631ca",
   "metadata": {},
   "source": [
    "## THE STARS FEATURE DOESNOT HAVE ANY ISSUES WE NEED TO CONVERT IT IN TO THE FLOAT DATA TYPE"
   ]
  },
  {
   "cell_type": "code",
   "execution_count": 68,
   "id": "f2f0fdde-43dc-489a-8b43-8a5d6c77d42a",
   "metadata": {},
   "outputs": [],
   "source": [
    "df.Stars=df.Stars.astype(float)"
   ]
  },
  {
   "cell_type": "code",
   "execution_count": 69,
   "id": "3b01b2c6-3b62-44e6-9d09-45f30b44aefc",
   "metadata": {},
   "outputs": [
    {
     "data": {
      "text/plain": [
       "dtype('float64')"
      ]
     },
     "execution_count": 69,
     "metadata": {},
     "output_type": "execute_result"
    }
   ],
   "source": [
    "df.Stars.dtype"
   ]
  },
  {
   "cell_type": "code",
   "execution_count": 70,
   "id": "0353d308-4e4b-4cd1-aa53-ee2d6ae0be68",
   "metadata": {},
   "outputs": [
    {
     "data": {
      "text/plain": [
       "array(['4,708 ratings', '6,445 ratings', '4,025 ratings', '8,123 ratings',\n",
       "       '2,957 ratings', '2,014 ratings', '3,953 ratings', '5,625 ratings',\n",
       "       '2,114 ratings', '286 ratings'], dtype=object)"
      ]
     },
     "execution_count": 70,
     "metadata": {},
     "output_type": "execute_result"
    }
   ],
   "source": [
    "df.Ratings.unique()[0:10]"
   ]
  },
  {
   "cell_type": "markdown",
   "id": "2b2a0917-e685-4806-8c38-bb0e5bb388f2",
   "metadata": {},
   "source": [
    "## I OBSERVED THAT THERE IS NO ISSUE IN RATINGS FEATURE'S DATA NOW WE NEED TO CONVERT IT INTO THE INTEGER DATA TYPE"
   ]
  },
  {
   "cell_type": "code",
   "execution_count": 71,
   "id": "c0c9adf7-de0d-4ff5-8961-5fbf00ed6cc0",
   "metadata": {},
   "outputs": [],
   "source": [
    "df.Ratings=df.Ratings.str.replace(\",\",\"\").apply(lambda x:x.split(\" \")[0]).astype(int)"
   ]
  },
  {
   "cell_type": "code",
   "execution_count": 72,
   "id": "3b9d28cf-78c7-4ecb-9b57-33369aecc9a8",
   "metadata": {},
   "outputs": [
    {
     "data": {
      "text/plain": [
       "0    4708\n",
       "1    4708\n",
       "2    6445\n",
       "3    4025\n",
       "4    6445\n",
       "Name: Ratings, dtype: int64"
      ]
     },
     "execution_count": 72,
     "metadata": {},
     "output_type": "execute_result"
    }
   ],
   "source": [
    "df.Ratings.head()"
   ]
  },
  {
   "cell_type": "code",
   "execution_count": 73,
   "id": "91194e09-1580-4e7d-9d11-b3d8a9853a5f",
   "metadata": {},
   "outputs": [
    {
     "data": {
      "text/plain": [
       "array(['27,490', '24,990', '11,990', '27,990', '21,990', '15,990',\n",
       "       '16,690', '15,190', '22,490', '16,990'], dtype=object)"
      ]
     },
     "execution_count": 73,
     "metadata": {},
     "output_type": "execute_result"
    }
   ],
   "source": [
    "df.Prices.unique()[0:10]"
   ]
  },
  {
   "cell_type": "markdown",
   "id": "f746c24a-51fb-433b-8f70-4541461ad761",
   "metadata": {},
   "source": [
    "## I OBSERVED THAT THERE IS NO ISSUE IN PRICES FEATURE'S DATA NOW WE NEED TO CONVERT IT INTO THE INTEGER DATA TYPE"
   ]
  },
  {
   "cell_type": "code",
   "execution_count": 74,
   "id": "8942347a-f920-4737-935e-5f6a22826f0d",
   "metadata": {},
   "outputs": [],
   "source": [
    "df.Prices=df.Prices.str.replace(\",\",\"\").astype(int)"
   ]
  },
  {
   "cell_type": "code",
   "execution_count": 75,
   "id": "69bd0d1d-04cd-4592-ac4e-1aab26ebdf4e",
   "metadata": {},
   "outputs": [
    {
     "data": {
      "text/plain": [
       "0    27490\n",
       "1    27490\n",
       "2    24990\n",
       "3    11990\n",
       "4    24990\n",
       "Name: Prices, dtype: int64"
      ]
     },
     "execution_count": 75,
     "metadata": {},
     "output_type": "execute_result"
    }
   ],
   "source": [
    "df.Prices.head()"
   ]
  },
  {
   "cell_type": "code",
   "execution_count": 76,
   "id": "f868385b-4c76-44d4-9881-7936a7484287",
   "metadata": {},
   "outputs": [
    {
     "data": {
      "text/plain": [
       "array(['236 litres', '184 litres', '270 litres', '235 litres',\n",
       "       '192 litres', '190 litres', '183 litres', '180 litres',\n",
       "       '223 litres', '215 litres'], dtype=object)"
      ]
     },
     "execution_count": 76,
     "metadata": {},
     "output_type": "execute_result"
    }
   ],
   "source": [
    "df.Capacity.unique()[0:10]"
   ]
  },
  {
   "cell_type": "markdown",
   "id": "5e1ad517-bf8e-40a5-9145-3fb507c31206",
   "metadata": {},
   "source": [
    "## I OBSERVED THAT THERE IS NO ISSUE IN CAPACITY FEATURE'S DATA NOW WE NEED TO CONVERT IT INTO THE FLOAT DATA TYPE"
   ]
  },
  {
   "cell_type": "code",
   "execution_count": 77,
   "id": "bed93925-03a1-48dd-b333-caeeceae43c0",
   "metadata": {},
   "outputs": [],
   "source": [
    "df.Capacity=df.Capacity.apply(lambda x:x.split(\" \")[0]).astype(float)"
   ]
  },
  {
   "cell_type": "code",
   "execution_count": 78,
   "id": "756626c4-7a93-4692-bf2a-6b00e648b7c9",
   "metadata": {},
   "outputs": [
    {
     "data": {
      "text/plain": [
       "0    236.0\n",
       "1    236.0\n",
       "2    236.0\n",
       "3    184.0\n",
       "4    236.0\n",
       "Name: Capacity, dtype: float64"
      ]
     },
     "execution_count": 78,
     "metadata": {},
     "output_type": "execute_result"
    }
   ],
   "source": [
    "df.Capacity.head()"
   ]
  },
  {
   "cell_type": "code",
   "execution_count": 79,
   "id": "f12d8bc3-474c-4b1d-82e8-dc34a0dc81ff",
   "metadata": {},
   "outputs": [
    {
     "data": {
      "text/plain": [
       "array(['3 Star', '2 Star', 'Alpha Steel', '5 Star', '4 Star', '5',\n",
       "       'Shiny Steel', 'Western Black', 'German Steel', '1 Star',\n",
       "       'NO Rating', 'Steel Onyx', 'Black', 'Radiant Steel', 'No rating',\n",
       "       'Graphite Black', 'Black Glass', '4', 'No Rating',\n",
       "       '4 Star, 2 Star', '5 star rating', 'Blue Glass', 'Arctic Silver',\n",
       "       'Gentle Black Matt', 'EZ Clean Steel'], dtype=object)"
      ]
     },
     "execution_count": 79,
     "metadata": {},
     "output_type": "execute_result"
    }
   ],
   "source": [
    "df.Energy_stars.unique()"
   ]
  },
  {
   "cell_type": "markdown",
   "id": "91065e88-71e2-4a94-aa9e-4deb07d3e440",
   "metadata": {},
   "source": [
    "## WE CAN OBSERVE THAT THE ENEERGY_STARS FEATURE IS MESSY WE NEED TO PERFORM SOME CLEANING HERE"
   ]
  },
  {
   "cell_type": "code",
   "execution_count": 80,
   "id": "ffa48cd9-4c32-4b18-bd9b-14e8940bab1f",
   "metadata": {},
   "outputs": [],
   "source": [
    "rows=list(df.Energy_stars.value_counts()[:8].index)"
   ]
  },
  {
   "cell_type": "code",
   "execution_count": 81,
   "id": "9c30041f-a306-4367-b0e4-16e8e43ebc2d",
   "metadata": {},
   "outputs": [
    {
     "data": {
      "text/plain": [
       "['3 Star',\n",
       " '2 Star',\n",
       " '5 Star',\n",
       " '4 Star',\n",
       " '1 Star',\n",
       " '5 star rating',\n",
       " 'NO Rating',\n",
       " '5']"
      ]
     },
     "execution_count": 81,
     "metadata": {},
     "output_type": "execute_result"
    }
   ],
   "source": [
    "rows"
   ]
  },
  {
   "cell_type": "code",
   "execution_count": 82,
   "id": "3f910530-5f35-452d-ad5c-8c1fa87afaec",
   "metadata": {},
   "outputs": [
    {
     "data": {
      "text/plain": [
       "Energy_stars\n",
       "3 Star               135\n",
       "2 Star               101\n",
       "5 Star                41\n",
       "4 Star                31\n",
       "1 Star                 8\n",
       "5 star rating          7\n",
       "NO Rating              6\n",
       "5                      5\n",
       "Alpha Steel            3\n",
       "EZ Clean Steel         3\n",
       "Radiant Steel          2\n",
       "Shiny Steel            2\n",
       "Black                  2\n",
       "Steel Onyx             2\n",
       "Western Black          1\n",
       "German Steel           1\n",
       "No rating              1\n",
       "Black Glass            1\n",
       "Graphite Black         1\n",
       "No Rating              1\n",
       "4                      1\n",
       "4 Star, 2 Star         1\n",
       "Blue Glass             1\n",
       "Arctic Silver          1\n",
       "Gentle Black Matt      1\n",
       "Name: count, dtype: int64"
      ]
     },
     "execution_count": 82,
     "metadata": {},
     "output_type": "execute_result"
    }
   ],
   "source": [
    "df.Energy_stars.value_counts()"
   ]
  },
  {
   "cell_type": "code",
   "execution_count": 83,
   "id": "ec350043-cf61-45f6-8120-24c35645baba",
   "metadata": {},
   "outputs": [],
   "source": [
    "df.Energy_stars=df.Energy_stars.apply(lambda x:x.split(\" \")[0]).apply(lambda x:x if (len(x)<2) else None).astype(float)"
   ]
  },
  {
   "cell_type": "code",
   "execution_count": 84,
   "id": "909c4dfe-1632-41e9-9fe5-8da96d38ac02",
   "metadata": {},
   "outputs": [
    {
     "data": {
      "text/plain": [
       "0    3.0\n",
       "1    3.0\n",
       "2    3.0\n",
       "3    2.0\n",
       "4    3.0\n",
       "Name: Energy_stars, dtype: float64"
      ]
     },
     "execution_count": 84,
     "metadata": {},
     "output_type": "execute_result"
    }
   ],
   "source": [
    "df.Energy_stars.head()"
   ]
  },
  {
   "cell_type": "code",
   "execution_count": 85,
   "id": "d12b388d-1f16-4f1b-b801-f9164b5ffb81",
   "metadata": {},
   "outputs": [],
   "source": [
    "df.dropna(axis=0,inplace=True)"
   ]
  },
  {
   "cell_type": "code",
   "execution_count": 86,
   "id": "ceeb160f-9f81-4716-ba8f-5d54fab2b489",
   "metadata": {},
   "outputs": [
    {
     "data": {
      "text/plain": [
       "(330, 7)"
      ]
     },
     "execution_count": 86,
     "metadata": {},
     "output_type": "execute_result"
    }
   ],
   "source": [
    "df.shape"
   ]
  },
  {
   "cell_type": "code",
   "execution_count": 87,
   "id": "41ff096d-730b-4db2-acc9-6544ea7c727b",
   "metadata": {},
   "outputs": [],
   "source": [
    "df.Energy_stars=df.Energy_stars.astype(int)"
   ]
  },
  {
   "cell_type": "code",
   "execution_count": 88,
   "id": "fe2962c7-a1e8-460a-a540-303beea72a28",
   "metadata": {},
   "outputs": [
    {
     "data": {
      "text/plain": [
       "0    3\n",
       "1    3\n",
       "2    3\n",
       "3    2\n",
       "4    3\n",
       "Name: Energy_stars, dtype: int64"
      ]
     },
     "execution_count": 88,
     "metadata": {},
     "output_type": "execute_result"
    }
   ],
   "source": [
    "df.Energy_stars.head()"
   ]
  },
  {
   "cell_type": "markdown",
   "id": "aa3f3cb4-5e57-4154-b9c7-8710598dcb91",
   "metadata": {},
   "source": [
    "## NOW OUR DATASET IS CLEANED AND WE CAN PERFORM VISUALIZATION IN POWER BI EFFICIENTLY AND CAN ALSO PERFORM EDA"
   ]
  },
  {
   "cell_type": "code",
   "execution_count": 89,
   "id": "5f6d65e1-1d8d-483f-a8f2-f72510f8894d",
   "metadata": {},
   "outputs": [
    {
     "data": {
      "text/html": [
       "<div>\n",
       "<style scoped>\n",
       "    .dataframe tbody tr th:only-of-type {\n",
       "        vertical-align: middle;\n",
       "    }\n",
       "\n",
       "    .dataframe tbody tr th {\n",
       "        vertical-align: top;\n",
       "    }\n",
       "\n",
       "    .dataframe thead th {\n",
       "        text-align: right;\n",
       "    }\n",
       "</style>\n",
       "<table border=\"1\" class=\"dataframe\">\n",
       "  <thead>\n",
       "    <tr style=\"text-align: right;\">\n",
       "      <th></th>\n",
       "      <th>Stars</th>\n",
       "      <th>Ratings</th>\n",
       "      <th>Prices</th>\n",
       "      <th>Brands</th>\n",
       "      <th>Capacity</th>\n",
       "      <th>Energy_stars</th>\n",
       "      <th>config</th>\n",
       "    </tr>\n",
       "  </thead>\n",
       "  <tbody>\n",
       "    <tr>\n",
       "      <th>0</th>\n",
       "      <td>4.2</td>\n",
       "      <td>4708</td>\n",
       "      <td>27490</td>\n",
       "      <td>SAMSUNG</td>\n",
       "      <td>236.0</td>\n",
       "      <td>3</td>\n",
       "      <td>Freezer-on-Top</td>\n",
       "    </tr>\n",
       "    <tr>\n",
       "      <th>1</th>\n",
       "      <td>4.2</td>\n",
       "      <td>4708</td>\n",
       "      <td>27490</td>\n",
       "      <td>SAMSUNG</td>\n",
       "      <td>236.0</td>\n",
       "      <td>3</td>\n",
       "      <td>Freezer-on-Top</td>\n",
       "    </tr>\n",
       "    <tr>\n",
       "      <th>2</th>\n",
       "      <td>4.3</td>\n",
       "      <td>6445</td>\n",
       "      <td>24990</td>\n",
       "      <td>SAMSUNG</td>\n",
       "      <td>236.0</td>\n",
       "      <td>3</td>\n",
       "      <td>Freezer-on-Top</td>\n",
       "    </tr>\n",
       "    <tr>\n",
       "      <th>3</th>\n",
       "      <td>4.1</td>\n",
       "      <td>4025</td>\n",
       "      <td>11990</td>\n",
       "      <td>WHIRLPOOL</td>\n",
       "      <td>184.0</td>\n",
       "      <td>2</td>\n",
       "      <td>Single Door</td>\n",
       "    </tr>\n",
       "    <tr>\n",
       "      <th>4</th>\n",
       "      <td>4.3</td>\n",
       "      <td>6445</td>\n",
       "      <td>24990</td>\n",
       "      <td>SAMSUNG</td>\n",
       "      <td>236.0</td>\n",
       "      <td>3</td>\n",
       "      <td>Freezer-on-Top</td>\n",
       "    </tr>\n",
       "  </tbody>\n",
       "</table>\n",
       "</div>"
      ],
      "text/plain": [
       "   Stars  Ratings  Prices     Brands  Capacity  Energy_stars          config\n",
       "0    4.2     4708   27490    SAMSUNG     236.0             3  Freezer-on-Top\n",
       "1    4.2     4708   27490    SAMSUNG     236.0             3  Freezer-on-Top\n",
       "2    4.3     6445   24990    SAMSUNG     236.0             3  Freezer-on-Top\n",
       "3    4.1     4025   11990  WHIRLPOOL     184.0             2     Single Door\n",
       "4    4.3     6445   24990    SAMSUNG     236.0             3  Freezer-on-Top"
      ]
     },
     "execution_count": 89,
     "metadata": {},
     "output_type": "execute_result"
    }
   ],
   "source": [
    "df.head()"
   ]
  },
  {
   "cell_type": "code",
   "execution_count": 90,
   "id": "a32ceef6-d035-4942-b4c9-94628e686e8d",
   "metadata": {},
   "outputs": [
    {
     "name": "stdout",
     "output_type": "stream",
     "text": [
      "<class 'pandas.core.frame.DataFrame'>\n",
      "Index: 330 entries, 0 to 483\n",
      "Data columns (total 7 columns):\n",
      " #   Column        Non-Null Count  Dtype  \n",
      "---  ------        --------------  -----  \n",
      " 0   Stars         330 non-null    float64\n",
      " 1   Ratings       330 non-null    int64  \n",
      " 2   Prices        330 non-null    int64  \n",
      " 3   Brands        330 non-null    object \n",
      " 4   Capacity      330 non-null    float64\n",
      " 5   Energy_stars  330 non-null    int64  \n",
      " 6   config        330 non-null    object \n",
      "dtypes: float64(2), int64(3), object(2)\n",
      "memory usage: 20.6+ KB\n"
     ]
    }
   ],
   "source": [
    "df.info()"
   ]
  },
  {
   "cell_type": "code",
   "execution_count": 91,
   "id": "aa0e3dff-5184-4c3f-9303-f3a3d21d6512",
   "metadata": {},
   "outputs": [
    {
     "data": {
      "text/html": [
       "<div>\n",
       "<style scoped>\n",
       "    .dataframe tbody tr th:only-of-type {\n",
       "        vertical-align: middle;\n",
       "    }\n",
       "\n",
       "    .dataframe tbody tr th {\n",
       "        vertical-align: top;\n",
       "    }\n",
       "\n",
       "    .dataframe thead th {\n",
       "        text-align: right;\n",
       "    }\n",
       "</style>\n",
       "<table border=\"1\" class=\"dataframe\">\n",
       "  <thead>\n",
       "    <tr style=\"text-align: right;\">\n",
       "      <th></th>\n",
       "      <th>Stars</th>\n",
       "      <th>Ratings</th>\n",
       "      <th>Prices</th>\n",
       "      <th>Capacity</th>\n",
       "      <th>Energy_stars</th>\n",
       "    </tr>\n",
       "  </thead>\n",
       "  <tbody>\n",
       "    <tr>\n",
       "      <th>count</th>\n",
       "      <td>330.000000</td>\n",
       "      <td>330.000000</td>\n",
       "      <td>330.000000</td>\n",
       "      <td>330.000000</td>\n",
       "      <td>330.000000</td>\n",
       "    </tr>\n",
       "    <tr>\n",
       "      <th>mean</th>\n",
       "      <td>3.992727</td>\n",
       "      <td>1219.763636</td>\n",
       "      <td>31128.912121</td>\n",
       "      <td>276.225758</td>\n",
       "      <td>3.066667</td>\n",
       "    </tr>\n",
       "    <tr>\n",
       "      <th>std</th>\n",
       "      <td>0.499795</td>\n",
       "      <td>1694.848773</td>\n",
       "      <td>22569.000212</td>\n",
       "      <td>132.298691</td>\n",
       "      <td>1.069803</td>\n",
       "    </tr>\n",
       "    <tr>\n",
       "      <th>min</th>\n",
       "      <td>1.000000</td>\n",
       "      <td>1.000000</td>\n",
       "      <td>2999.000000</td>\n",
       "      <td>5.000000</td>\n",
       "      <td>1.000000</td>\n",
       "    </tr>\n",
       "    <tr>\n",
       "      <th>25%</th>\n",
       "      <td>3.900000</td>\n",
       "      <td>31.250000</td>\n",
       "      <td>16690.000000</td>\n",
       "      <td>190.000000</td>\n",
       "      <td>2.000000</td>\n",
       "    </tr>\n",
       "    <tr>\n",
       "      <th>50%</th>\n",
       "      <td>4.100000</td>\n",
       "      <td>370.000000</td>\n",
       "      <td>23990.000000</td>\n",
       "      <td>236.000000</td>\n",
       "      <td>3.000000</td>\n",
       "    </tr>\n",
       "    <tr>\n",
       "      <th>75%</th>\n",
       "      <td>4.200000</td>\n",
       "      <td>1665.000000</td>\n",
       "      <td>36422.500000</td>\n",
       "      <td>322.000000</td>\n",
       "      <td>4.000000</td>\n",
       "    </tr>\n",
       "    <tr>\n",
       "      <th>max</th>\n",
       "      <td>5.000000</td>\n",
       "      <td>6445.000000</td>\n",
       "      <td>181134.000000</td>\n",
       "      <td>688.000000</td>\n",
       "      <td>5.000000</td>\n",
       "    </tr>\n",
       "  </tbody>\n",
       "</table>\n",
       "</div>"
      ],
      "text/plain": [
       "            Stars      Ratings         Prices    Capacity  Energy_stars\n",
       "count  330.000000   330.000000     330.000000  330.000000    330.000000\n",
       "mean     3.992727  1219.763636   31128.912121  276.225758      3.066667\n",
       "std      0.499795  1694.848773   22569.000212  132.298691      1.069803\n",
       "min      1.000000     1.000000    2999.000000    5.000000      1.000000\n",
       "25%      3.900000    31.250000   16690.000000  190.000000      2.000000\n",
       "50%      4.100000   370.000000   23990.000000  236.000000      3.000000\n",
       "75%      4.200000  1665.000000   36422.500000  322.000000      4.000000\n",
       "max      5.000000  6445.000000  181134.000000  688.000000      5.000000"
      ]
     },
     "execution_count": 91,
     "metadata": {},
     "output_type": "execute_result"
    }
   ],
   "source": [
    "df.describe()"
   ]
  },
  {
   "cell_type": "code",
   "execution_count": 92,
   "id": "023978ad-a3a4-4c6b-b51e-68995d61b59c",
   "metadata": {},
   "outputs": [
    {
     "data": {
      "text/plain": [
       "np.int64(9)"
      ]
     },
     "execution_count": 92,
     "metadata": {},
     "output_type": "execute_result"
    }
   ],
   "source": [
    "(df.Prices<10000).sum()"
   ]
  },
  {
   "cell_type": "code",
   "execution_count": 94,
   "id": "3482c660-5b62-43f7-97f0-41221f0de477",
   "metadata": {},
   "outputs": [],
   "source": [
    "df2=df[df.Prices>10000]"
   ]
  },
  {
   "cell_type": "code",
   "execution_count": 95,
   "id": "2d11cac1-7edc-43dc-8f4d-d91324ee5a83",
   "metadata": {},
   "outputs": [
    {
     "data": {
      "text/plain": [
       "(321, 7)"
      ]
     },
     "execution_count": 95,
     "metadata": {},
     "output_type": "execute_result"
    }
   ],
   "source": [
    "df2.shape"
   ]
  },
  {
   "cell_type": "code",
   "execution_count": 96,
   "id": "56507ac8-d69c-4ce8-8223-e54c1991afc0",
   "metadata": {},
   "outputs": [
    {
     "data": {
      "text/html": [
       "<div>\n",
       "<style scoped>\n",
       "    .dataframe tbody tr th:only-of-type {\n",
       "        vertical-align: middle;\n",
       "    }\n",
       "\n",
       "    .dataframe tbody tr th {\n",
       "        vertical-align: top;\n",
       "    }\n",
       "\n",
       "    .dataframe thead th {\n",
       "        text-align: right;\n",
       "    }\n",
       "</style>\n",
       "<table border=\"1\" class=\"dataframe\">\n",
       "  <thead>\n",
       "    <tr style=\"text-align: right;\">\n",
       "      <th></th>\n",
       "      <th>Stars</th>\n",
       "      <th>Ratings</th>\n",
       "      <th>Prices</th>\n",
       "      <th>Brands</th>\n",
       "      <th>Capacity</th>\n",
       "      <th>Energy_stars</th>\n",
       "      <th>config</th>\n",
       "    </tr>\n",
       "  </thead>\n",
       "  <tbody>\n",
       "    <tr>\n",
       "      <th>0</th>\n",
       "      <td>4.2</td>\n",
       "      <td>4708</td>\n",
       "      <td>27490</td>\n",
       "      <td>SAMSUNG</td>\n",
       "      <td>236.0</td>\n",
       "      <td>3</td>\n",
       "      <td>Freezer-on-Top</td>\n",
       "    </tr>\n",
       "    <tr>\n",
       "      <th>1</th>\n",
       "      <td>4.2</td>\n",
       "      <td>4708</td>\n",
       "      <td>27490</td>\n",
       "      <td>SAMSUNG</td>\n",
       "      <td>236.0</td>\n",
       "      <td>3</td>\n",
       "      <td>Freezer-on-Top</td>\n",
       "    </tr>\n",
       "    <tr>\n",
       "      <th>2</th>\n",
       "      <td>4.3</td>\n",
       "      <td>6445</td>\n",
       "      <td>24990</td>\n",
       "      <td>SAMSUNG</td>\n",
       "      <td>236.0</td>\n",
       "      <td>3</td>\n",
       "      <td>Freezer-on-Top</td>\n",
       "    </tr>\n",
       "    <tr>\n",
       "      <th>3</th>\n",
       "      <td>4.1</td>\n",
       "      <td>4025</td>\n",
       "      <td>11990</td>\n",
       "      <td>WHIRLPOOL</td>\n",
       "      <td>184.0</td>\n",
       "      <td>2</td>\n",
       "      <td>Single Door</td>\n",
       "    </tr>\n",
       "    <tr>\n",
       "      <th>4</th>\n",
       "      <td>4.3</td>\n",
       "      <td>6445</td>\n",
       "      <td>24990</td>\n",
       "      <td>SAMSUNG</td>\n",
       "      <td>236.0</td>\n",
       "      <td>3</td>\n",
       "      <td>Freezer-on-Top</td>\n",
       "    </tr>\n",
       "  </tbody>\n",
       "</table>\n",
       "</div>"
      ],
      "text/plain": [
       "   Stars  Ratings  Prices     Brands  Capacity  Energy_stars          config\n",
       "0    4.2     4708   27490    SAMSUNG     236.0             3  Freezer-on-Top\n",
       "1    4.2     4708   27490    SAMSUNG     236.0             3  Freezer-on-Top\n",
       "2    4.3     6445   24990    SAMSUNG     236.0             3  Freezer-on-Top\n",
       "3    4.1     4025   11990  WHIRLPOOL     184.0             2     Single Door\n",
       "4    4.3     6445   24990    SAMSUNG     236.0             3  Freezer-on-Top"
      ]
     },
     "execution_count": 96,
     "metadata": {},
     "output_type": "execute_result"
    }
   ],
   "source": [
    "df2.head()"
   ]
  },
  {
   "cell_type": "markdown",
   "id": "35823b30-d066-460b-a889-a9857e16659e",
   "metadata": {},
   "source": [
    "## NOW WE ARE ALL SET TO EXPORT THE DATASET AS CSV FILE FOR POWER BI "
   ]
  },
  {
   "cell_type": "code",
   "execution_count": 98,
   "id": "89b461df-eb73-453a-9baa-b49aa4c31a67",
   "metadata": {},
   "outputs": [],
   "source": [
    "df2.to_csv(\"cleaned_df_for_BI.csv\",index=False)"
   ]
  },
  {
   "cell_type": "code",
   "execution_count": null,
   "id": "76467360-aa88-43e8-81cd-0d5d8b386a7e",
   "metadata": {},
   "outputs": [],
   "source": []
  }
 ],
 "metadata": {
  "kernelspec": {
   "display_name": "Python 3 (ipykernel)",
   "language": "python",
   "name": "python3"
  },
  "language_info": {
   "codemirror_mode": {
    "name": "ipython",
    "version": 3
   },
   "file_extension": ".py",
   "mimetype": "text/x-python",
   "name": "python",
   "nbconvert_exporter": "python",
   "pygments_lexer": "ipython3",
   "version": "3.13.0"
  }
 },
 "nbformat": 4,
 "nbformat_minor": 5
}
